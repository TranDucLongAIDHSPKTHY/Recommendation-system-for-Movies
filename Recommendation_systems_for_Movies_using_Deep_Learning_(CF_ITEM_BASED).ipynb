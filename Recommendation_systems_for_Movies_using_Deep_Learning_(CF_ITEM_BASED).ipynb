{
  "cells": [
    {
      "cell_type": "markdown",
      "metadata": {
        "id": "view-in-github",
        "colab_type": "text"
      },
      "source": [
        "<a href=\"https://colab.research.google.com/github/TranDucLongAIDHSPKTHY/Recommendation-system-for-Movies/blob/main/Recommendation_systems_for_Movies_using_Deep_Learning_(CF_ITEM_BASED).ipynb\" target=\"_parent\"><img src=\"https://colab.research.google.com/assets/colab-badge.svg\" alt=\"Open In Colab\"/></a>"
      ]
    },
    {
      "cell_type": "markdown",
      "metadata": {
        "id": "J2Gw-xxu5rnM"
      },
      "source": [
        "# Import thư viện"
      ]
    },
    {
      "cell_type": "code",
      "execution_count": null,
      "metadata": {
        "id": "DxW9bLt_RHee"
      },
      "outputs": [],
      "source": [
        "import pandas as pd\n",
        "import numpy as np"
      ]
    },
    {
      "cell_type": "code",
      "execution_count": null,
      "metadata": {
        "id": "CUi0hLyo5uxd"
      },
      "outputs": [],
      "source": [
        "import torch\n",
        "import torch.nn as nn\n",
        "import torch.optim as optim\n",
        "from torch.utils.data import DataLoader, Dataset\n",
        "from sklearn.model_selection import train_test_split\n",
        "from sklearn.metrics import mean_squared_error, mean_absolute_error\n",
        "import torch.nn.functional as F"
      ]
    },
    {
      "cell_type": "code",
      "execution_count": null,
      "metadata": {
        "id": "Xm0gHi7IRKHP"
      },
      "outputs": [],
      "source": [
        "import matplotlib.pyplot as plt\n",
        "import seaborn as sns"
      ]
    },
    {
      "cell_type": "code",
      "execution_count": null,
      "metadata": {
        "colab": {
          "base_uri": "https://localhost:8080/"
        },
        "id": "nsDbpcI9JS8-",
        "outputId": "c77089c4-574b-4f24-a366-ac18e88c1302"
      },
      "outputs": [
        {
          "output_type": "stream",
          "name": "stdout",
          "text": [
            "Mounted at /content/drive\n"
          ]
        }
      ],
      "source": [
        "from google.colab import drive\n",
        "drive.mount('/content/drive')"
      ]
    },
    {
      "cell_type": "markdown",
      "metadata": {
        "id": "XriAj_VX5xR5"
      },
      "source": [
        "# Đọc file csv"
      ]
    },
    {
      "cell_type": "code",
      "execution_count": null,
      "metadata": {
        "id": "iAGiTslHILFi"
      },
      "outputs": [],
      "source": [
        "rating = pd.read_csv('/content/drive/My Drive/Project4_Trần Đức Long_124211/movie-25M/ratings.csv')\n",
        "movie = pd.read_csv('/content/drive/My Drive/Project4_Trần Đức Long_124211/movie-25M/movies.csv')"
      ]
    },
    {
      "cell_type": "code",
      "execution_count": null,
      "metadata": {
        "colab": {
          "base_uri": "https://localhost:8080/",
          "height": 143
        },
        "id": "_9zgyxSiu_kk",
        "outputId": "815adfdc-29e1-4390-e69d-400e9052e779"
      },
      "outputs": [
        {
          "output_type": "execute_result",
          "data": {
            "text/plain": [
              "   userId  movieId  rating   timestamp\n",
              "0       1      296     5.0  1147880044\n",
              "1       1      306     3.5  1147868817\n",
              "2       1      307     5.0  1147868828"
            ],
            "text/html": [
              "\n",
              "  <div id=\"df-c5c0e9e3-7d05-44d0-8145-3f128ba746cd\" class=\"colab-df-container\">\n",
              "    <div>\n",
              "<style scoped>\n",
              "    .dataframe tbody tr th:only-of-type {\n",
              "        vertical-align: middle;\n",
              "    }\n",
              "\n",
              "    .dataframe tbody tr th {\n",
              "        vertical-align: top;\n",
              "    }\n",
              "\n",
              "    .dataframe thead th {\n",
              "        text-align: right;\n",
              "    }\n",
              "</style>\n",
              "<table border=\"1\" class=\"dataframe\">\n",
              "  <thead>\n",
              "    <tr style=\"text-align: right;\">\n",
              "      <th></th>\n",
              "      <th>userId</th>\n",
              "      <th>movieId</th>\n",
              "      <th>rating</th>\n",
              "      <th>timestamp</th>\n",
              "    </tr>\n",
              "  </thead>\n",
              "  <tbody>\n",
              "    <tr>\n",
              "      <th>0</th>\n",
              "      <td>1</td>\n",
              "      <td>296</td>\n",
              "      <td>5.0</td>\n",
              "      <td>1147880044</td>\n",
              "    </tr>\n",
              "    <tr>\n",
              "      <th>1</th>\n",
              "      <td>1</td>\n",
              "      <td>306</td>\n",
              "      <td>3.5</td>\n",
              "      <td>1147868817</td>\n",
              "    </tr>\n",
              "    <tr>\n",
              "      <th>2</th>\n",
              "      <td>1</td>\n",
              "      <td>307</td>\n",
              "      <td>5.0</td>\n",
              "      <td>1147868828</td>\n",
              "    </tr>\n",
              "  </tbody>\n",
              "</table>\n",
              "</div>\n",
              "    <div class=\"colab-df-buttons\">\n",
              "\n",
              "  <div class=\"colab-df-container\">\n",
              "    <button class=\"colab-df-convert\" onclick=\"convertToInteractive('df-c5c0e9e3-7d05-44d0-8145-3f128ba746cd')\"\n",
              "            title=\"Convert this dataframe to an interactive table.\"\n",
              "            style=\"display:none;\">\n",
              "\n",
              "  <svg xmlns=\"http://www.w3.org/2000/svg\" height=\"24px\" viewBox=\"0 -960 960 960\">\n",
              "    <path d=\"M120-120v-720h720v720H120Zm60-500h600v-160H180v160Zm220 220h160v-160H400v160Zm0 220h160v-160H400v160ZM180-400h160v-160H180v160Zm440 0h160v-160H620v160ZM180-180h160v-160H180v160Zm440 0h160v-160H620v160Z\"/>\n",
              "  </svg>\n",
              "    </button>\n",
              "\n",
              "  <style>\n",
              "    .colab-df-container {\n",
              "      display:flex;\n",
              "      gap: 12px;\n",
              "    }\n",
              "\n",
              "    .colab-df-convert {\n",
              "      background-color: #E8F0FE;\n",
              "      border: none;\n",
              "      border-radius: 50%;\n",
              "      cursor: pointer;\n",
              "      display: none;\n",
              "      fill: #1967D2;\n",
              "      height: 32px;\n",
              "      padding: 0 0 0 0;\n",
              "      width: 32px;\n",
              "    }\n",
              "\n",
              "    .colab-df-convert:hover {\n",
              "      background-color: #E2EBFA;\n",
              "      box-shadow: 0px 1px 2px rgba(60, 64, 67, 0.3), 0px 1px 3px 1px rgba(60, 64, 67, 0.15);\n",
              "      fill: #174EA6;\n",
              "    }\n",
              "\n",
              "    .colab-df-buttons div {\n",
              "      margin-bottom: 4px;\n",
              "    }\n",
              "\n",
              "    [theme=dark] .colab-df-convert {\n",
              "      background-color: #3B4455;\n",
              "      fill: #D2E3FC;\n",
              "    }\n",
              "\n",
              "    [theme=dark] .colab-df-convert:hover {\n",
              "      background-color: #434B5C;\n",
              "      box-shadow: 0px 1px 3px 1px rgba(0, 0, 0, 0.15);\n",
              "      filter: drop-shadow(0px 1px 2px rgba(0, 0, 0, 0.3));\n",
              "      fill: #FFFFFF;\n",
              "    }\n",
              "  </style>\n",
              "\n",
              "    <script>\n",
              "      const buttonEl =\n",
              "        document.querySelector('#df-c5c0e9e3-7d05-44d0-8145-3f128ba746cd button.colab-df-convert');\n",
              "      buttonEl.style.display =\n",
              "        google.colab.kernel.accessAllowed ? 'block' : 'none';\n",
              "\n",
              "      async function convertToInteractive(key) {\n",
              "        const element = document.querySelector('#df-c5c0e9e3-7d05-44d0-8145-3f128ba746cd');\n",
              "        const dataTable =\n",
              "          await google.colab.kernel.invokeFunction('convertToInteractive',\n",
              "                                                    [key], {});\n",
              "        if (!dataTable) return;\n",
              "\n",
              "        const docLinkHtml = 'Like what you see? Visit the ' +\n",
              "          '<a target=\"_blank\" href=https://colab.research.google.com/notebooks/data_table.ipynb>data table notebook</a>'\n",
              "          + ' to learn more about interactive tables.';\n",
              "        element.innerHTML = '';\n",
              "        dataTable['output_type'] = 'display_data';\n",
              "        await google.colab.output.renderOutput(dataTable, element);\n",
              "        const docLink = document.createElement('div');\n",
              "        docLink.innerHTML = docLinkHtml;\n",
              "        element.appendChild(docLink);\n",
              "      }\n",
              "    </script>\n",
              "  </div>\n",
              "\n",
              "\n",
              "<div id=\"df-b556f131-aa5a-42cb-ac90-baff9dd49a09\">\n",
              "  <button class=\"colab-df-quickchart\" onclick=\"quickchart('df-b556f131-aa5a-42cb-ac90-baff9dd49a09')\"\n",
              "            title=\"Suggest charts\"\n",
              "            style=\"display:none;\">\n",
              "\n",
              "<svg xmlns=\"http://www.w3.org/2000/svg\" height=\"24px\"viewBox=\"0 0 24 24\"\n",
              "     width=\"24px\">\n",
              "    <g>\n",
              "        <path d=\"M19 3H5c-1.1 0-2 .9-2 2v14c0 1.1.9 2 2 2h14c1.1 0 2-.9 2-2V5c0-1.1-.9-2-2-2zM9 17H7v-7h2v7zm4 0h-2V7h2v10zm4 0h-2v-4h2v4z\"/>\n",
              "    </g>\n",
              "</svg>\n",
              "  </button>\n",
              "\n",
              "<style>\n",
              "  .colab-df-quickchart {\n",
              "      --bg-color: #E8F0FE;\n",
              "      --fill-color: #1967D2;\n",
              "      --hover-bg-color: #E2EBFA;\n",
              "      --hover-fill-color: #174EA6;\n",
              "      --disabled-fill-color: #AAA;\n",
              "      --disabled-bg-color: #DDD;\n",
              "  }\n",
              "\n",
              "  [theme=dark] .colab-df-quickchart {\n",
              "      --bg-color: #3B4455;\n",
              "      --fill-color: #D2E3FC;\n",
              "      --hover-bg-color: #434B5C;\n",
              "      --hover-fill-color: #FFFFFF;\n",
              "      --disabled-bg-color: #3B4455;\n",
              "      --disabled-fill-color: #666;\n",
              "  }\n",
              "\n",
              "  .colab-df-quickchart {\n",
              "    background-color: var(--bg-color);\n",
              "    border: none;\n",
              "    border-radius: 50%;\n",
              "    cursor: pointer;\n",
              "    display: none;\n",
              "    fill: var(--fill-color);\n",
              "    height: 32px;\n",
              "    padding: 0;\n",
              "    width: 32px;\n",
              "  }\n",
              "\n",
              "  .colab-df-quickchart:hover {\n",
              "    background-color: var(--hover-bg-color);\n",
              "    box-shadow: 0 1px 2px rgba(60, 64, 67, 0.3), 0 1px 3px 1px rgba(60, 64, 67, 0.15);\n",
              "    fill: var(--button-hover-fill-color);\n",
              "  }\n",
              "\n",
              "  .colab-df-quickchart-complete:disabled,\n",
              "  .colab-df-quickchart-complete:disabled:hover {\n",
              "    background-color: var(--disabled-bg-color);\n",
              "    fill: var(--disabled-fill-color);\n",
              "    box-shadow: none;\n",
              "  }\n",
              "\n",
              "  .colab-df-spinner {\n",
              "    border: 2px solid var(--fill-color);\n",
              "    border-color: transparent;\n",
              "    border-bottom-color: var(--fill-color);\n",
              "    animation:\n",
              "      spin 1s steps(1) infinite;\n",
              "  }\n",
              "\n",
              "  @keyframes spin {\n",
              "    0% {\n",
              "      border-color: transparent;\n",
              "      border-bottom-color: var(--fill-color);\n",
              "      border-left-color: var(--fill-color);\n",
              "    }\n",
              "    20% {\n",
              "      border-color: transparent;\n",
              "      border-left-color: var(--fill-color);\n",
              "      border-top-color: var(--fill-color);\n",
              "    }\n",
              "    30% {\n",
              "      border-color: transparent;\n",
              "      border-left-color: var(--fill-color);\n",
              "      border-top-color: var(--fill-color);\n",
              "      border-right-color: var(--fill-color);\n",
              "    }\n",
              "    40% {\n",
              "      border-color: transparent;\n",
              "      border-right-color: var(--fill-color);\n",
              "      border-top-color: var(--fill-color);\n",
              "    }\n",
              "    60% {\n",
              "      border-color: transparent;\n",
              "      border-right-color: var(--fill-color);\n",
              "    }\n",
              "    80% {\n",
              "      border-color: transparent;\n",
              "      border-right-color: var(--fill-color);\n",
              "      border-bottom-color: var(--fill-color);\n",
              "    }\n",
              "    90% {\n",
              "      border-color: transparent;\n",
              "      border-bottom-color: var(--fill-color);\n",
              "    }\n",
              "  }\n",
              "</style>\n",
              "\n",
              "  <script>\n",
              "    async function quickchart(key) {\n",
              "      const quickchartButtonEl =\n",
              "        document.querySelector('#' + key + ' button');\n",
              "      quickchartButtonEl.disabled = true;  // To prevent multiple clicks.\n",
              "      quickchartButtonEl.classList.add('colab-df-spinner');\n",
              "      try {\n",
              "        const charts = await google.colab.kernel.invokeFunction(\n",
              "            'suggestCharts', [key], {});\n",
              "      } catch (error) {\n",
              "        console.error('Error during call to suggestCharts:', error);\n",
              "      }\n",
              "      quickchartButtonEl.classList.remove('colab-df-spinner');\n",
              "      quickchartButtonEl.classList.add('colab-df-quickchart-complete');\n",
              "    }\n",
              "    (() => {\n",
              "      let quickchartButtonEl =\n",
              "        document.querySelector('#df-b556f131-aa5a-42cb-ac90-baff9dd49a09 button');\n",
              "      quickchartButtonEl.style.display =\n",
              "        google.colab.kernel.accessAllowed ? 'block' : 'none';\n",
              "    })();\n",
              "  </script>\n",
              "</div>\n",
              "\n",
              "    </div>\n",
              "  </div>\n"
            ],
            "application/vnd.google.colaboratory.intrinsic+json": {
              "type": "dataframe",
              "variable_name": "rating"
            }
          },
          "metadata": {},
          "execution_count": 6
        }
      ],
      "source": [
        "rating.head(3)"
      ]
    },
    {
      "cell_type": "code",
      "execution_count": null,
      "metadata": {
        "colab": {
          "base_uri": "https://localhost:8080/",
          "height": 143
        },
        "id": "HrGFBOrm6KRk",
        "outputId": "3354847e-5234-49e1-d722-9a868b554c4f"
      },
      "outputs": [
        {
          "output_type": "execute_result",
          "data": {
            "text/plain": [
              "   movieId                    title  \\\n",
              "0        1         Toy Story (1995)   \n",
              "1        2           Jumanji (1995)   \n",
              "2        3  Grumpier Old Men (1995)   \n",
              "\n",
              "                                        genres  \n",
              "0  Adventure|Animation|Children|Comedy|Fantasy  \n",
              "1                   Adventure|Children|Fantasy  \n",
              "2                               Comedy|Romance  "
            ],
            "text/html": [
              "\n",
              "  <div id=\"df-16a55667-7872-41cc-8fc0-0646be4ed8f7\" class=\"colab-df-container\">\n",
              "    <div>\n",
              "<style scoped>\n",
              "    .dataframe tbody tr th:only-of-type {\n",
              "        vertical-align: middle;\n",
              "    }\n",
              "\n",
              "    .dataframe tbody tr th {\n",
              "        vertical-align: top;\n",
              "    }\n",
              "\n",
              "    .dataframe thead th {\n",
              "        text-align: right;\n",
              "    }\n",
              "</style>\n",
              "<table border=\"1\" class=\"dataframe\">\n",
              "  <thead>\n",
              "    <tr style=\"text-align: right;\">\n",
              "      <th></th>\n",
              "      <th>movieId</th>\n",
              "      <th>title</th>\n",
              "      <th>genres</th>\n",
              "    </tr>\n",
              "  </thead>\n",
              "  <tbody>\n",
              "    <tr>\n",
              "      <th>0</th>\n",
              "      <td>1</td>\n",
              "      <td>Toy Story (1995)</td>\n",
              "      <td>Adventure|Animation|Children|Comedy|Fantasy</td>\n",
              "    </tr>\n",
              "    <tr>\n",
              "      <th>1</th>\n",
              "      <td>2</td>\n",
              "      <td>Jumanji (1995)</td>\n",
              "      <td>Adventure|Children|Fantasy</td>\n",
              "    </tr>\n",
              "    <tr>\n",
              "      <th>2</th>\n",
              "      <td>3</td>\n",
              "      <td>Grumpier Old Men (1995)</td>\n",
              "      <td>Comedy|Romance</td>\n",
              "    </tr>\n",
              "  </tbody>\n",
              "</table>\n",
              "</div>\n",
              "    <div class=\"colab-df-buttons\">\n",
              "\n",
              "  <div class=\"colab-df-container\">\n",
              "    <button class=\"colab-df-convert\" onclick=\"convertToInteractive('df-16a55667-7872-41cc-8fc0-0646be4ed8f7')\"\n",
              "            title=\"Convert this dataframe to an interactive table.\"\n",
              "            style=\"display:none;\">\n",
              "\n",
              "  <svg xmlns=\"http://www.w3.org/2000/svg\" height=\"24px\" viewBox=\"0 -960 960 960\">\n",
              "    <path d=\"M120-120v-720h720v720H120Zm60-500h600v-160H180v160Zm220 220h160v-160H400v160Zm0 220h160v-160H400v160ZM180-400h160v-160H180v160Zm440 0h160v-160H620v160ZM180-180h160v-160H180v160Zm440 0h160v-160H620v160Z\"/>\n",
              "  </svg>\n",
              "    </button>\n",
              "\n",
              "  <style>\n",
              "    .colab-df-container {\n",
              "      display:flex;\n",
              "      gap: 12px;\n",
              "    }\n",
              "\n",
              "    .colab-df-convert {\n",
              "      background-color: #E8F0FE;\n",
              "      border: none;\n",
              "      border-radius: 50%;\n",
              "      cursor: pointer;\n",
              "      display: none;\n",
              "      fill: #1967D2;\n",
              "      height: 32px;\n",
              "      padding: 0 0 0 0;\n",
              "      width: 32px;\n",
              "    }\n",
              "\n",
              "    .colab-df-convert:hover {\n",
              "      background-color: #E2EBFA;\n",
              "      box-shadow: 0px 1px 2px rgba(60, 64, 67, 0.3), 0px 1px 3px 1px rgba(60, 64, 67, 0.15);\n",
              "      fill: #174EA6;\n",
              "    }\n",
              "\n",
              "    .colab-df-buttons div {\n",
              "      margin-bottom: 4px;\n",
              "    }\n",
              "\n",
              "    [theme=dark] .colab-df-convert {\n",
              "      background-color: #3B4455;\n",
              "      fill: #D2E3FC;\n",
              "    }\n",
              "\n",
              "    [theme=dark] .colab-df-convert:hover {\n",
              "      background-color: #434B5C;\n",
              "      box-shadow: 0px 1px 3px 1px rgba(0, 0, 0, 0.15);\n",
              "      filter: drop-shadow(0px 1px 2px rgba(0, 0, 0, 0.3));\n",
              "      fill: #FFFFFF;\n",
              "    }\n",
              "  </style>\n",
              "\n",
              "    <script>\n",
              "      const buttonEl =\n",
              "        document.querySelector('#df-16a55667-7872-41cc-8fc0-0646be4ed8f7 button.colab-df-convert');\n",
              "      buttonEl.style.display =\n",
              "        google.colab.kernel.accessAllowed ? 'block' : 'none';\n",
              "\n",
              "      async function convertToInteractive(key) {\n",
              "        const element = document.querySelector('#df-16a55667-7872-41cc-8fc0-0646be4ed8f7');\n",
              "        const dataTable =\n",
              "          await google.colab.kernel.invokeFunction('convertToInteractive',\n",
              "                                                    [key], {});\n",
              "        if (!dataTable) return;\n",
              "\n",
              "        const docLinkHtml = 'Like what you see? Visit the ' +\n",
              "          '<a target=\"_blank\" href=https://colab.research.google.com/notebooks/data_table.ipynb>data table notebook</a>'\n",
              "          + ' to learn more about interactive tables.';\n",
              "        element.innerHTML = '';\n",
              "        dataTable['output_type'] = 'display_data';\n",
              "        await google.colab.output.renderOutput(dataTable, element);\n",
              "        const docLink = document.createElement('div');\n",
              "        docLink.innerHTML = docLinkHtml;\n",
              "        element.appendChild(docLink);\n",
              "      }\n",
              "    </script>\n",
              "  </div>\n",
              "\n",
              "\n",
              "<div id=\"df-cfdb6c33-c91f-4a8c-9630-1a7bba5ba3af\">\n",
              "  <button class=\"colab-df-quickchart\" onclick=\"quickchart('df-cfdb6c33-c91f-4a8c-9630-1a7bba5ba3af')\"\n",
              "            title=\"Suggest charts\"\n",
              "            style=\"display:none;\">\n",
              "\n",
              "<svg xmlns=\"http://www.w3.org/2000/svg\" height=\"24px\"viewBox=\"0 0 24 24\"\n",
              "     width=\"24px\">\n",
              "    <g>\n",
              "        <path d=\"M19 3H5c-1.1 0-2 .9-2 2v14c0 1.1.9 2 2 2h14c1.1 0 2-.9 2-2V5c0-1.1-.9-2-2-2zM9 17H7v-7h2v7zm4 0h-2V7h2v10zm4 0h-2v-4h2v4z\"/>\n",
              "    </g>\n",
              "</svg>\n",
              "  </button>\n",
              "\n",
              "<style>\n",
              "  .colab-df-quickchart {\n",
              "      --bg-color: #E8F0FE;\n",
              "      --fill-color: #1967D2;\n",
              "      --hover-bg-color: #E2EBFA;\n",
              "      --hover-fill-color: #174EA6;\n",
              "      --disabled-fill-color: #AAA;\n",
              "      --disabled-bg-color: #DDD;\n",
              "  }\n",
              "\n",
              "  [theme=dark] .colab-df-quickchart {\n",
              "      --bg-color: #3B4455;\n",
              "      --fill-color: #D2E3FC;\n",
              "      --hover-bg-color: #434B5C;\n",
              "      --hover-fill-color: #FFFFFF;\n",
              "      --disabled-bg-color: #3B4455;\n",
              "      --disabled-fill-color: #666;\n",
              "  }\n",
              "\n",
              "  .colab-df-quickchart {\n",
              "    background-color: var(--bg-color);\n",
              "    border: none;\n",
              "    border-radius: 50%;\n",
              "    cursor: pointer;\n",
              "    display: none;\n",
              "    fill: var(--fill-color);\n",
              "    height: 32px;\n",
              "    padding: 0;\n",
              "    width: 32px;\n",
              "  }\n",
              "\n",
              "  .colab-df-quickchart:hover {\n",
              "    background-color: var(--hover-bg-color);\n",
              "    box-shadow: 0 1px 2px rgba(60, 64, 67, 0.3), 0 1px 3px 1px rgba(60, 64, 67, 0.15);\n",
              "    fill: var(--button-hover-fill-color);\n",
              "  }\n",
              "\n",
              "  .colab-df-quickchart-complete:disabled,\n",
              "  .colab-df-quickchart-complete:disabled:hover {\n",
              "    background-color: var(--disabled-bg-color);\n",
              "    fill: var(--disabled-fill-color);\n",
              "    box-shadow: none;\n",
              "  }\n",
              "\n",
              "  .colab-df-spinner {\n",
              "    border: 2px solid var(--fill-color);\n",
              "    border-color: transparent;\n",
              "    border-bottom-color: var(--fill-color);\n",
              "    animation:\n",
              "      spin 1s steps(1) infinite;\n",
              "  }\n",
              "\n",
              "  @keyframes spin {\n",
              "    0% {\n",
              "      border-color: transparent;\n",
              "      border-bottom-color: var(--fill-color);\n",
              "      border-left-color: var(--fill-color);\n",
              "    }\n",
              "    20% {\n",
              "      border-color: transparent;\n",
              "      border-left-color: var(--fill-color);\n",
              "      border-top-color: var(--fill-color);\n",
              "    }\n",
              "    30% {\n",
              "      border-color: transparent;\n",
              "      border-left-color: var(--fill-color);\n",
              "      border-top-color: var(--fill-color);\n",
              "      border-right-color: var(--fill-color);\n",
              "    }\n",
              "    40% {\n",
              "      border-color: transparent;\n",
              "      border-right-color: var(--fill-color);\n",
              "      border-top-color: var(--fill-color);\n",
              "    }\n",
              "    60% {\n",
              "      border-color: transparent;\n",
              "      border-right-color: var(--fill-color);\n",
              "    }\n",
              "    80% {\n",
              "      border-color: transparent;\n",
              "      border-right-color: var(--fill-color);\n",
              "      border-bottom-color: var(--fill-color);\n",
              "    }\n",
              "    90% {\n",
              "      border-color: transparent;\n",
              "      border-bottom-color: var(--fill-color);\n",
              "    }\n",
              "  }\n",
              "</style>\n",
              "\n",
              "  <script>\n",
              "    async function quickchart(key) {\n",
              "      const quickchartButtonEl =\n",
              "        document.querySelector('#' + key + ' button');\n",
              "      quickchartButtonEl.disabled = true;  // To prevent multiple clicks.\n",
              "      quickchartButtonEl.classList.add('colab-df-spinner');\n",
              "      try {\n",
              "        const charts = await google.colab.kernel.invokeFunction(\n",
              "            'suggestCharts', [key], {});\n",
              "      } catch (error) {\n",
              "        console.error('Error during call to suggestCharts:', error);\n",
              "      }\n",
              "      quickchartButtonEl.classList.remove('colab-df-spinner');\n",
              "      quickchartButtonEl.classList.add('colab-df-quickchart-complete');\n",
              "    }\n",
              "    (() => {\n",
              "      let quickchartButtonEl =\n",
              "        document.querySelector('#df-cfdb6c33-c91f-4a8c-9630-1a7bba5ba3af button');\n",
              "      quickchartButtonEl.style.display =\n",
              "        google.colab.kernel.accessAllowed ? 'block' : 'none';\n",
              "    })();\n",
              "  </script>\n",
              "</div>\n",
              "\n",
              "    </div>\n",
              "  </div>\n"
            ],
            "application/vnd.google.colaboratory.intrinsic+json": {
              "type": "dataframe",
              "variable_name": "movie",
              "summary": "{\n  \"name\": \"movie\",\n  \"rows\": 62423,\n  \"fields\": [\n    {\n      \"column\": \"movieId\",\n      \"properties\": {\n        \"dtype\": \"number\",\n        \"std\": 63264,\n        \"min\": 1,\n        \"max\": 209171,\n        \"num_unique_values\": 62423,\n        \"samples\": [\n          4990,\n          116698,\n          125517\n        ],\n        \"semantic_type\": \"\",\n        \"description\": \"\"\n      }\n    },\n    {\n      \"column\": \"title\",\n      \"properties\": {\n        \"dtype\": \"string\",\n        \"num_unique_values\": 62325,\n        \"samples\": [\n          \"So Dear to My Heart (1949)\",\n          \"Give Me Liberty (2019)\",\n          \"Vice (2015)\"\n        ],\n        \"semantic_type\": \"\",\n        \"description\": \"\"\n      }\n    },\n    {\n      \"column\": \"genres\",\n      \"properties\": {\n        \"dtype\": \"category\",\n        \"num_unique_values\": 1639,\n        \"samples\": [\n          \"Action|Adventure|Crime|Western\",\n          \"Action|Comedy|Drama|Romance|Thriller\",\n          \"Animation|Documentary|Drama|Fantasy\"\n        ],\n        \"semantic_type\": \"\",\n        \"description\": \"\"\n      }\n    }\n  ]\n}"
            }
          },
          "metadata": {},
          "execution_count": 7
        }
      ],
      "source": [
        "movie.head(3)"
      ]
    },
    {
      "cell_type": "markdown",
      "metadata": {
        "id": "p94iN7tT6Bxp"
      },
      "source": [
        "#Giải thích dữ liệu & Tiền xử lý dữ liệu"
      ]
    },
    {
      "cell_type": "code",
      "execution_count": null,
      "metadata": {
        "colab": {
          "base_uri": "https://localhost:8080/"
        },
        "id": "BNU9UNtCvCbg",
        "outputId": "e00441ae-2751-4493-cb4d-c51ce30f45f5"
      },
      "outputs": [
        {
          "output_type": "stream",
          "name": "stdout",
          "text": [
            "<class 'pandas.core.frame.DataFrame'>\n",
            "RangeIndex: 25000095 entries, 0 to 25000094\n",
            "Data columns (total 4 columns):\n",
            " #   Column     Dtype  \n",
            "---  ------     -----  \n",
            " 0   userId     int64  \n",
            " 1   movieId    int64  \n",
            " 2   rating     float64\n",
            " 3   timestamp  int64  \n",
            "dtypes: float64(1), int64(3)\n",
            "memory usage: 762.9 MB\n"
          ]
        }
      ],
      "source": [
        "rating.info()"
      ]
    },
    {
      "cell_type": "code",
      "execution_count": null,
      "metadata": {
        "colab": {
          "base_uri": "https://localhost:8080/"
        },
        "id": "b6f8fnO9OKRe",
        "outputId": "7f5145fe-83ca-4aa0-fa17-82a3f2cb99c6"
      },
      "outputs": [
        {
          "output_type": "stream",
          "name": "stdout",
          "text": [
            "userId       0\n",
            "movieId      0\n",
            "rating       0\n",
            "timestamp    0\n",
            "dtype: int64\n"
          ]
        }
      ],
      "source": [
        "# Kiểm tra các giá trị thiếu\n",
        "print(rating.isnull().sum())"
      ]
    },
    {
      "cell_type": "code",
      "execution_count": null,
      "metadata": {
        "colab": {
          "base_uri": "https://localhost:8080/"
        },
        "id": "OA0S3ODyOglw",
        "outputId": "ccdf1843-a839-43ed-d512-ab2f49f0e999"
      },
      "outputs": [
        {
          "output_type": "stream",
          "name": "stdout",
          "text": [
            "0\n"
          ]
        }
      ],
      "source": [
        "# Kiểm tra các giá trị trùng lặp\n",
        "print(rating.duplicated().sum())"
      ]
    },
    {
      "cell_type": "code",
      "execution_count": null,
      "metadata": {
        "colab": {
          "base_uri": "https://localhost:8080/"
        },
        "id": "xqwXUMIGu_Xm",
        "outputId": "7a866d1a-8460-47ab-d9bd-4db06e1d9f64"
      },
      "outputs": [
        {
          "output_type": "stream",
          "name": "stdout",
          "text": [
            "<class 'pandas.core.frame.DataFrame'>\n",
            "RangeIndex: 62423 entries, 0 to 62422\n",
            "Data columns (total 3 columns):\n",
            " #   Column   Non-Null Count  Dtype \n",
            "---  ------   --------------  ----- \n",
            " 0   movieId  62423 non-null  int64 \n",
            " 1   title    62423 non-null  object\n",
            " 2   genres   62423 non-null  object\n",
            "dtypes: int64(1), object(2)\n",
            "memory usage: 1.4+ MB\n"
          ]
        }
      ],
      "source": [
        "movie.info()"
      ]
    },
    {
      "cell_type": "code",
      "execution_count": null,
      "metadata": {
        "colab": {
          "base_uri": "https://localhost:8080/"
        },
        "id": "wyMYwKXnOoy8",
        "outputId": "37c4c375-fbc1-4b31-e69f-4ce29b59a13e"
      },
      "outputs": [
        {
          "output_type": "stream",
          "name": "stdout",
          "text": [
            "movieId    0\n",
            "title      0\n",
            "genres     0\n",
            "dtype: int64\n"
          ]
        }
      ],
      "source": [
        "# Kiểm tra các giá trị thiếu\n",
        "print(movie.isnull().sum())"
      ]
    },
    {
      "cell_type": "code",
      "execution_count": null,
      "metadata": {
        "colab": {
          "base_uri": "https://localhost:8080/"
        },
        "id": "SkKZxS24Osb-",
        "outputId": "e0d5204b-8d8d-4fa7-b235-d064d4491c51"
      },
      "outputs": [
        {
          "output_type": "stream",
          "name": "stdout",
          "text": [
            "0\n"
          ]
        }
      ],
      "source": [
        "# Kiểm tra các giá trị trùng lặp\n",
        "print(movie.duplicated().sum())"
      ]
    },
    {
      "cell_type": "code",
      "execution_count": null,
      "metadata": {
        "id": "h2zk3hEiW8sa"
      },
      "outputs": [],
      "source": [
        "ratings = rating.head(100000)#25000094"
      ]
    },
    {
      "cell_type": "code",
      "source": [
        "ratings.info()"
      ],
      "metadata": {
        "colab": {
          "base_uri": "https://localhost:8080/"
        },
        "id": "f9xnd5QkaVO5",
        "outputId": "a1a0525d-2325-4f01-d91b-4eb43ea8fb1b"
      },
      "execution_count": null,
      "outputs": [
        {
          "output_type": "stream",
          "name": "stdout",
          "text": [
            "<class 'pandas.core.frame.DataFrame'>\n",
            "RangeIndex: 100000 entries, 0 to 99999\n",
            "Data columns (total 4 columns):\n",
            " #   Column     Non-Null Count   Dtype  \n",
            "---  ------     --------------   -----  \n",
            " 0   userId     100000 non-null  int64  \n",
            " 1   movieId    100000 non-null  int64  \n",
            " 2   rating     100000 non-null  float64\n",
            " 3   timestamp  100000 non-null  int64  \n",
            "dtypes: float64(1), int64(3)\n",
            "memory usage: 3.1 MB\n"
          ]
        }
      ]
    },
    {
      "cell_type": "code",
      "execution_count": null,
      "metadata": {
        "id": "RRaF1Hh3W8ly"
      },
      "outputs": [],
      "source": [
        "movies = movie.head(50000)"
      ]
    },
    {
      "cell_type": "code",
      "source": [
        "movies.info()"
      ],
      "metadata": {
        "colab": {
          "base_uri": "https://localhost:8080/"
        },
        "id": "k-EP1jdDaVlB",
        "outputId": "302b6a73-58cf-4128-b0be-85e9bd75cbc6"
      },
      "execution_count": null,
      "outputs": [
        {
          "output_type": "stream",
          "name": "stdout",
          "text": [
            "<class 'pandas.core.frame.DataFrame'>\n",
            "RangeIndex: 50000 entries, 0 to 49999\n",
            "Data columns (total 3 columns):\n",
            " #   Column   Non-Null Count  Dtype \n",
            "---  ------   --------------  ----- \n",
            " 0   movieId  50000 non-null  int64 \n",
            " 1   title    50000 non-null  object\n",
            " 2   genres   50000 non-null  object\n",
            "dtypes: int64(1), object(2)\n",
            "memory usage: 1.1+ MB\n"
          ]
        }
      ]
    },
    {
      "cell_type": "code",
      "execution_count": null,
      "metadata": {
        "id": "Wn3m8lZ-8g8f"
      },
      "outputs": [],
      "source": [
        "merged = pd.merge(ratings, movies, on='movieId')\n",
        "data = merged[['userId', 'movieId', 'rating','']]"
      ]
    },
    {
      "cell_type": "code",
      "execution_count": null,
      "metadata": {
        "colab": {
          "base_uri": "https://localhost:8080/",
          "height": 206
        },
        "id": "OZceX7-aOzQJ",
        "outputId": "9625d819-aa07-41cf-c13e-32b364d650e2"
      },
      "outputs": [
        {
          "output_type": "execute_result",
          "data": {
            "text/plain": [
              "   userId  movieId  rating\n",
              "0       1      296     5.0\n",
              "1       1      306     3.5\n",
              "2       1      307     5.0\n",
              "3       1      665     5.0\n",
              "4       1      899     3.5"
            ],
            "text/html": [
              "\n",
              "  <div id=\"df-2025e8df-74f1-4226-9787-5de7f9972521\" class=\"colab-df-container\">\n",
              "    <div>\n",
              "<style scoped>\n",
              "    .dataframe tbody tr th:only-of-type {\n",
              "        vertical-align: middle;\n",
              "    }\n",
              "\n",
              "    .dataframe tbody tr th {\n",
              "        vertical-align: top;\n",
              "    }\n",
              "\n",
              "    .dataframe thead th {\n",
              "        text-align: right;\n",
              "    }\n",
              "</style>\n",
              "<table border=\"1\" class=\"dataframe\">\n",
              "  <thead>\n",
              "    <tr style=\"text-align: right;\">\n",
              "      <th></th>\n",
              "      <th>userId</th>\n",
              "      <th>movieId</th>\n",
              "      <th>rating</th>\n",
              "    </tr>\n",
              "  </thead>\n",
              "  <tbody>\n",
              "    <tr>\n",
              "      <th>0</th>\n",
              "      <td>1</td>\n",
              "      <td>296</td>\n",
              "      <td>5.0</td>\n",
              "    </tr>\n",
              "    <tr>\n",
              "      <th>1</th>\n",
              "      <td>1</td>\n",
              "      <td>306</td>\n",
              "      <td>3.5</td>\n",
              "    </tr>\n",
              "    <tr>\n",
              "      <th>2</th>\n",
              "      <td>1</td>\n",
              "      <td>307</td>\n",
              "      <td>5.0</td>\n",
              "    </tr>\n",
              "    <tr>\n",
              "      <th>3</th>\n",
              "      <td>1</td>\n",
              "      <td>665</td>\n",
              "      <td>5.0</td>\n",
              "    </tr>\n",
              "    <tr>\n",
              "      <th>4</th>\n",
              "      <td>1</td>\n",
              "      <td>899</td>\n",
              "      <td>3.5</td>\n",
              "    </tr>\n",
              "  </tbody>\n",
              "</table>\n",
              "</div>\n",
              "    <div class=\"colab-df-buttons\">\n",
              "\n",
              "  <div class=\"colab-df-container\">\n",
              "    <button class=\"colab-df-convert\" onclick=\"convertToInteractive('df-2025e8df-74f1-4226-9787-5de7f9972521')\"\n",
              "            title=\"Convert this dataframe to an interactive table.\"\n",
              "            style=\"display:none;\">\n",
              "\n",
              "  <svg xmlns=\"http://www.w3.org/2000/svg\" height=\"24px\" viewBox=\"0 -960 960 960\">\n",
              "    <path d=\"M120-120v-720h720v720H120Zm60-500h600v-160H180v160Zm220 220h160v-160H400v160Zm0 220h160v-160H400v160ZM180-400h160v-160H180v160Zm440 0h160v-160H620v160ZM180-180h160v-160H180v160Zm440 0h160v-160H620v160Z\"/>\n",
              "  </svg>\n",
              "    </button>\n",
              "\n",
              "  <style>\n",
              "    .colab-df-container {\n",
              "      display:flex;\n",
              "      gap: 12px;\n",
              "    }\n",
              "\n",
              "    .colab-df-convert {\n",
              "      background-color: #E8F0FE;\n",
              "      border: none;\n",
              "      border-radius: 50%;\n",
              "      cursor: pointer;\n",
              "      display: none;\n",
              "      fill: #1967D2;\n",
              "      height: 32px;\n",
              "      padding: 0 0 0 0;\n",
              "      width: 32px;\n",
              "    }\n",
              "\n",
              "    .colab-df-convert:hover {\n",
              "      background-color: #E2EBFA;\n",
              "      box-shadow: 0px 1px 2px rgba(60, 64, 67, 0.3), 0px 1px 3px 1px rgba(60, 64, 67, 0.15);\n",
              "      fill: #174EA6;\n",
              "    }\n",
              "\n",
              "    .colab-df-buttons div {\n",
              "      margin-bottom: 4px;\n",
              "    }\n",
              "\n",
              "    [theme=dark] .colab-df-convert {\n",
              "      background-color: #3B4455;\n",
              "      fill: #D2E3FC;\n",
              "    }\n",
              "\n",
              "    [theme=dark] .colab-df-convert:hover {\n",
              "      background-color: #434B5C;\n",
              "      box-shadow: 0px 1px 3px 1px rgba(0, 0, 0, 0.15);\n",
              "      filter: drop-shadow(0px 1px 2px rgba(0, 0, 0, 0.3));\n",
              "      fill: #FFFFFF;\n",
              "    }\n",
              "  </style>\n",
              "\n",
              "    <script>\n",
              "      const buttonEl =\n",
              "        document.querySelector('#df-2025e8df-74f1-4226-9787-5de7f9972521 button.colab-df-convert');\n",
              "      buttonEl.style.display =\n",
              "        google.colab.kernel.accessAllowed ? 'block' : 'none';\n",
              "\n",
              "      async function convertToInteractive(key) {\n",
              "        const element = document.querySelector('#df-2025e8df-74f1-4226-9787-5de7f9972521');\n",
              "        const dataTable =\n",
              "          await google.colab.kernel.invokeFunction('convertToInteractive',\n",
              "                                                    [key], {});\n",
              "        if (!dataTable) return;\n",
              "\n",
              "        const docLinkHtml = 'Like what you see? Visit the ' +\n",
              "          '<a target=\"_blank\" href=https://colab.research.google.com/notebooks/data_table.ipynb>data table notebook</a>'\n",
              "          + ' to learn more about interactive tables.';\n",
              "        element.innerHTML = '';\n",
              "        dataTable['output_type'] = 'display_data';\n",
              "        await google.colab.output.renderOutput(dataTable, element);\n",
              "        const docLink = document.createElement('div');\n",
              "        docLink.innerHTML = docLinkHtml;\n",
              "        element.appendChild(docLink);\n",
              "      }\n",
              "    </script>\n",
              "  </div>\n",
              "\n",
              "\n",
              "<div id=\"df-5f850875-da4b-4b5b-9c4d-10d89d281b02\">\n",
              "  <button class=\"colab-df-quickchart\" onclick=\"quickchart('df-5f850875-da4b-4b5b-9c4d-10d89d281b02')\"\n",
              "            title=\"Suggest charts\"\n",
              "            style=\"display:none;\">\n",
              "\n",
              "<svg xmlns=\"http://www.w3.org/2000/svg\" height=\"24px\"viewBox=\"0 0 24 24\"\n",
              "     width=\"24px\">\n",
              "    <g>\n",
              "        <path d=\"M19 3H5c-1.1 0-2 .9-2 2v14c0 1.1.9 2 2 2h14c1.1 0 2-.9 2-2V5c0-1.1-.9-2-2-2zM9 17H7v-7h2v7zm4 0h-2V7h2v10zm4 0h-2v-4h2v4z\"/>\n",
              "    </g>\n",
              "</svg>\n",
              "  </button>\n",
              "\n",
              "<style>\n",
              "  .colab-df-quickchart {\n",
              "      --bg-color: #E8F0FE;\n",
              "      --fill-color: #1967D2;\n",
              "      --hover-bg-color: #E2EBFA;\n",
              "      --hover-fill-color: #174EA6;\n",
              "      --disabled-fill-color: #AAA;\n",
              "      --disabled-bg-color: #DDD;\n",
              "  }\n",
              "\n",
              "  [theme=dark] .colab-df-quickchart {\n",
              "      --bg-color: #3B4455;\n",
              "      --fill-color: #D2E3FC;\n",
              "      --hover-bg-color: #434B5C;\n",
              "      --hover-fill-color: #FFFFFF;\n",
              "      --disabled-bg-color: #3B4455;\n",
              "      --disabled-fill-color: #666;\n",
              "  }\n",
              "\n",
              "  .colab-df-quickchart {\n",
              "    background-color: var(--bg-color);\n",
              "    border: none;\n",
              "    border-radius: 50%;\n",
              "    cursor: pointer;\n",
              "    display: none;\n",
              "    fill: var(--fill-color);\n",
              "    height: 32px;\n",
              "    padding: 0;\n",
              "    width: 32px;\n",
              "  }\n",
              "\n",
              "  .colab-df-quickchart:hover {\n",
              "    background-color: var(--hover-bg-color);\n",
              "    box-shadow: 0 1px 2px rgba(60, 64, 67, 0.3), 0 1px 3px 1px rgba(60, 64, 67, 0.15);\n",
              "    fill: var(--button-hover-fill-color);\n",
              "  }\n",
              "\n",
              "  .colab-df-quickchart-complete:disabled,\n",
              "  .colab-df-quickchart-complete:disabled:hover {\n",
              "    background-color: var(--disabled-bg-color);\n",
              "    fill: var(--disabled-fill-color);\n",
              "    box-shadow: none;\n",
              "  }\n",
              "\n",
              "  .colab-df-spinner {\n",
              "    border: 2px solid var(--fill-color);\n",
              "    border-color: transparent;\n",
              "    border-bottom-color: var(--fill-color);\n",
              "    animation:\n",
              "      spin 1s steps(1) infinite;\n",
              "  }\n",
              "\n",
              "  @keyframes spin {\n",
              "    0% {\n",
              "      border-color: transparent;\n",
              "      border-bottom-color: var(--fill-color);\n",
              "      border-left-color: var(--fill-color);\n",
              "    }\n",
              "    20% {\n",
              "      border-color: transparent;\n",
              "      border-left-color: var(--fill-color);\n",
              "      border-top-color: var(--fill-color);\n",
              "    }\n",
              "    30% {\n",
              "      border-color: transparent;\n",
              "      border-left-color: var(--fill-color);\n",
              "      border-top-color: var(--fill-color);\n",
              "      border-right-color: var(--fill-color);\n",
              "    }\n",
              "    40% {\n",
              "      border-color: transparent;\n",
              "      border-right-color: var(--fill-color);\n",
              "      border-top-color: var(--fill-color);\n",
              "    }\n",
              "    60% {\n",
              "      border-color: transparent;\n",
              "      border-right-color: var(--fill-color);\n",
              "    }\n",
              "    80% {\n",
              "      border-color: transparent;\n",
              "      border-right-color: var(--fill-color);\n",
              "      border-bottom-color: var(--fill-color);\n",
              "    }\n",
              "    90% {\n",
              "      border-color: transparent;\n",
              "      border-bottom-color: var(--fill-color);\n",
              "    }\n",
              "  }\n",
              "</style>\n",
              "\n",
              "  <script>\n",
              "    async function quickchart(key) {\n",
              "      const quickchartButtonEl =\n",
              "        document.querySelector('#' + key + ' button');\n",
              "      quickchartButtonEl.disabled = true;  // To prevent multiple clicks.\n",
              "      quickchartButtonEl.classList.add('colab-df-spinner');\n",
              "      try {\n",
              "        const charts = await google.colab.kernel.invokeFunction(\n",
              "            'suggestCharts', [key], {});\n",
              "      } catch (error) {\n",
              "        console.error('Error during call to suggestCharts:', error);\n",
              "      }\n",
              "      quickchartButtonEl.classList.remove('colab-df-spinner');\n",
              "      quickchartButtonEl.classList.add('colab-df-quickchart-complete');\n",
              "    }\n",
              "    (() => {\n",
              "      let quickchartButtonEl =\n",
              "        document.querySelector('#df-5f850875-da4b-4b5b-9c4d-10d89d281b02 button');\n",
              "      quickchartButtonEl.style.display =\n",
              "        google.colab.kernel.accessAllowed ? 'block' : 'none';\n",
              "    })();\n",
              "  </script>\n",
              "</div>\n",
              "\n",
              "    </div>\n",
              "  </div>\n"
            ],
            "application/vnd.google.colaboratory.intrinsic+json": {
              "type": "dataframe",
              "variable_name": "data",
              "summary": "{\n  \"name\": \"data\",\n  \"rows\": 99604,\n  \"fields\": [\n    {\n      \"column\": \"userId\",\n      \"properties\": {\n        \"dtype\": \"number\",\n        \"std\": 220,\n        \"min\": 1,\n        \"max\": 757,\n        \"num_unique_values\": 757,\n        \"samples\": [\n          410,\n          98,\n          282\n        ],\n        \"semantic_type\": \"\",\n        \"description\": \"\"\n      }\n    },\n    {\n      \"column\": \"movieId\",\n      \"properties\": {\n        \"dtype\": \"number\",\n        \"std\": 36737,\n        \"min\": 1,\n        \"max\": 180045,\n        \"num_unique_values\": 9548,\n        \"samples\": [\n          4719,\n          2950,\n          100498\n        ],\n        \"semantic_type\": \"\",\n        \"description\": \"\"\n      }\n    },\n    {\n      \"column\": \"rating\",\n      \"properties\": {\n        \"dtype\": \"number\",\n        \"std\": 1.0417150014962997,\n        \"min\": 0.5,\n        \"max\": 5.0,\n        \"num_unique_values\": 10,\n        \"samples\": [\n          1.0,\n          3.5,\n          3.0\n        ],\n        \"semantic_type\": \"\",\n        \"description\": \"\"\n      }\n    }\n  ]\n}"
            }
          },
          "metadata": {},
          "execution_count": 19
        }
      ],
      "source": [
        "data.head()"
      ]
    },
    {
      "cell_type": "code",
      "execution_count": null,
      "metadata": {
        "colab": {
          "base_uri": "https://localhost:8080/"
        },
        "id": "fODWkx295g2t",
        "outputId": "5b7b9fbb-a855-4d24-ed57-ea0d3d6f4e55"
      },
      "outputs": [
        {
          "output_type": "stream",
          "name": "stdout",
          "text": [
            "<class 'pandas.core.frame.DataFrame'>\n",
            "RangeIndex: 99604 entries, 0 to 99603\n",
            "Data columns (total 3 columns):\n",
            " #   Column   Non-Null Count  Dtype  \n",
            "---  ------   --------------  -----  \n",
            " 0   userId   99604 non-null  int64  \n",
            " 1   movieId  99604 non-null  int64  \n",
            " 2   rating   99604 non-null  float64\n",
            "dtypes: float64(1), int64(2)\n",
            "memory usage: 2.3 MB\n"
          ]
        }
      ],
      "source": [
        "data.info()"
      ]
    },
    {
      "cell_type": "code",
      "execution_count": null,
      "metadata": {
        "id": "mzYzZKq_ILNu"
      },
      "outputs": [],
      "source": [
        "# Đánh chỉ số cho user_id và movie_id\n",
        "user_ids = data['userId'].unique().tolist()\n",
        "movie_ids = data['movieId'].unique().tolist()\n",
        "user_id_to_index = {x: i for i, x in enumerate(user_ids)}\n",
        "movie_id_to_index = {x: i for i, x in enumerate(movie_ids)}\n"
      ]
    },
    {
      "cell_type": "code",
      "execution_count": null,
      "metadata": {
        "colab": {
          "base_uri": "https://localhost:8080/"
        },
        "id": "1fk3-3JKPlVL",
        "outputId": "c62144f5-e221-42c7-a633-9c48192ee5cf"
      },
      "outputs": [
        {
          "output_type": "stream",
          "name": "stderr",
          "text": [
            "<ipython-input-22-ee023a0a1df5>:2: SettingWithCopyWarning: \n",
            "A value is trying to be set on a copy of a slice from a DataFrame.\n",
            "Try using .loc[row_indexer,col_indexer] = value instead\n",
            "\n",
            "See the caveats in the documentation: https://pandas.pydata.org/pandas-docs/stable/user_guide/indexing.html#returning-a-view-versus-a-copy\n",
            "  data['user'] = data['userId'].map(user_id_to_index)\n",
            "<ipython-input-22-ee023a0a1df5>:3: SettingWithCopyWarning: \n",
            "A value is trying to be set on a copy of a slice from a DataFrame.\n",
            "Try using .loc[row_indexer,col_indexer] = value instead\n",
            "\n",
            "See the caveats in the documentation: https://pandas.pydata.org/pandas-docs/stable/user_guide/indexing.html#returning-a-view-versus-a-copy\n",
            "  data['movie'] = data['movieId'].map(movie_id_to_index)\n"
          ]
        }
      ],
      "source": [
        "# Thay thế user_id và movie_id bằng các chỉ số\n",
        "data['user'] = data['userId'].map(user_id_to_index)\n",
        "data['movie'] = data['movieId'].map(movie_id_to_index)"
      ]
    },
    {
      "cell_type": "markdown",
      "metadata": {
        "id": "y3zFcrxA6VrD"
      },
      "source": [
        "# Trực quan hóa dữ liệu"
      ]
    },
    {
      "cell_type": "code",
      "execution_count": null,
      "metadata": {
        "id": "VbkdSrQhPmGe"
      },
      "outputs": [],
      "source": [
        "import matplotlib.pyplot as plt\n",
        "import seaborn as sns"
      ]
    },
    {
      "cell_type": "code",
      "execution_count": null,
      "metadata": {
        "colab": {
          "base_uri": "https://localhost:8080/",
          "height": 654
        },
        "id": "DArqzjQQPmCK",
        "outputId": "86712780-3aad-4cc3-f9e6-4abd37ae579f"
      },
      "outputs": [
        {
          "output_type": "stream",
          "name": "stderr",
          "text": [
            "<ipython-input-24-33c6aa5e6fca>:3: FutureWarning: \n",
            "\n",
            "Passing `palette` without assigning `hue` is deprecated and will be removed in v0.14.0. Assign the `x` variable to `hue` and set `legend=False` for the same effect.\n",
            "\n",
            "  sns.countplot(data=data, x='rating', palette='viridis')\n"
          ]
        },
        {
          "output_type": "display_data",
          "data": {
            "text/plain": [
              "<Figure size 1000x600 with 1 Axes>"
            ],
            "image/png": "[encoded data removed]"
          },
          "metadata": {}
        }
      ],
      "source": [
        "#Biểu đồ phân phối xếp hạng của các bộ phim\n",
        "plt.figure(figsize=(10, 6))\n",
        "sns.countplot(data=data, x='rating', palette='viridis')\n",
        "plt.title('Phân phối các xếp hạng')\n",
        "plt.xlabel('Xếp hạng')\n",
        "plt.ylabel('Số lượng')\n",
        "plt.show()"
      ]
    },
    {
      "cell_type": "code",
      "execution_count": null,
      "metadata": {
        "colab": {
          "base_uri": "https://localhost:8080/",
          "height": 568
        },
        "id": "dXtX06dsILQM",
        "outputId": "7e272227-3d0e-4ef7-baa4-f92a1434dab7"
      },
      "outputs": [
        {
          "output_type": "display_data",
          "data": {
            "text/plain": [
              "<Figure size 1000x600 with 1 Axes>"
            ],
            "image/png": "[encoded data removed]"
          },
          "metadata": {}
        }
      ],
      "source": [
        "# Tính trung bình xếp hạng cho mỗi phim\n",
        "average_rating_per_movie = data.groupby('movieId')['rating'].mean()\n",
        "plt.figure(figsize=(10, 6))\n",
        "sns.histplot(average_rating_per_movie, bins=50, kde=True)\n",
        "plt.title('Xếp hạng trung bình mỗi phim')\n",
        "plt.xlabel('Xếp hạng trung bình')\n",
        "plt.ylabel('Số lượng')\n",
        "plt.show()"
      ]
    },
    {
      "cell_type": "markdown",
      "metadata": {
        "id": "TLADrFNq6b6r"
      },
      "source": [
        "# Train & Test"
      ]
    },
    {
      "cell_type": "code",
      "execution_count": null,
      "metadata": {
        "id": "fOJ8GqbNILSy"
      },
      "outputs": [],
      "source": [
        "train, test = train_test_split(data, test_size=0.2, random_state=42)"
      ]
    },
    {
      "cell_type": "code",
      "execution_count": null,
      "metadata": {
        "id": "_H2ookTpPRbU"
      },
      "outputs": [],
      "source": [
        "# Đếm số lượng mẫu trong mỗi tập\n",
        "train_count = len(train)\n",
        "test_count = len(test)"
      ]
    },
    {
      "cell_type": "code",
      "execution_count": null,
      "metadata": {
        "colab": {
          "base_uri": "https://localhost:8080/",
          "height": 454
        },
        "id": "nlflwwC7Rhop",
        "outputId": "ecfa1dfb-9286-4533-fb14-e86b4b17951c"
      },
      "outputs": [
        {
          "output_type": "display_data",
          "data": {
            "text/plain": [
              "<Figure size 640x480 with 1 Axes>"
            ],
            "image/png": "[encoded data removed]"
          },
          "metadata": {}
        }
      ],
      "source": [
        "# Vẽ biểu đồ\n",
        "labels = ['Train', 'Test']\n",
        "counts = [train_count, test_count]\n",
        "\n",
        "plt.bar(labels, counts, color=['skyblue', 'salmon'])\n",
        "\n",
        "# Hiển thị số lượng mẫu trên đỉnh mỗi cột\n",
        "for i, count in enumerate(counts):\n",
        "    plt.text(i, count + 100, str(count), ha='center', va='bottom')\n",
        "\n",
        "plt.ylabel('Số lượng mẫu')\n",
        "plt.title('Số lượng mẫu trong các tập Train và Test')\n",
        "plt.show()"
      ]
    },
    {
      "cell_type": "markdown",
      "metadata": {
        "id": "Auoa7V0E6igi"
      },
      "source": [
        "# Build model Autuencoder & NCF_MLP"
      ]
    },
    {
      "cell_type": "code",
      "execution_count": null,
      "metadata": {
        "id": "YF3YhrMyPzhL"
      },
      "outputs": [],
      "source": [
        "# Định nghĩa dataset\n",
        "class RatingsDataset(Dataset):\n",
        "    def __init__(self, data):\n",
        "        self.data = data\n",
        "\n",
        "    def __len__(self):\n",
        "        return len(self.data)\n",
        "\n",
        "    def __getitem__(self, idx):\n",
        "        user = self.data.iloc[idx]['user']\n",
        "        movie = self.data.iloc[idx]['movie']\n",
        "        rating = self.data.iloc[idx]['rating']\n",
        "        return torch.tensor(user), torch.tensor(movie), torch.tensor(rating, dtype=torch.float32)\n"
      ]
    },
    {
      "cell_type": "code",
      "execution_count": null,
      "metadata": {
        "id": "2-F1es8ZP0lv"
      },
      "outputs": [],
      "source": [
        "# Tạo dataset cho train và test\n",
        "train_dataset = RatingsDataset(train)\n",
        "test_dataset = RatingsDataset(test)"
      ]
    },
    {
      "cell_type": "code",
      "source": [
        "# Tạo DataLoader để lấy các batch dữ liệu\n",
        "train_loader = DataLoader(train_dataset, batch_size=256, shuffle=True) #trộn ngẫu nhiên dữ liệu.\n",
        "test_loader = DataLoader(test_dataset, batch_size=256, shuffle=False) #giữ nguyên thứ tự dữ liệu."
      ],
      "metadata": {
        "id": "z4iUAS1M_wU7"
      },
      "execution_count": null,
      "outputs": []
    },
    {
      "cell_type": "code",
      "source": [
        "# Khai báo số lượng người dùng, phim\n",
        "num_users = len(user_ids)\n",
        "num_movies = len(movie_ids)\n",
        "embedding_size = 50"
      ],
      "metadata": {
        "id": "OWWbKsOei2s4"
      },
      "execution_count": null,
      "outputs": []
    },
    {
      "cell_type": "code",
      "execution_count": null,
      "metadata": {
        "id": "IGA_3RZF9_aa"
      },
      "outputs": [],
      "source": [
        "# Định nghĩa mô hình Autoencoder\n",
        "class Autoencoder(nn.Module):\n",
        "    def __init__(self, num_users, num_movies, embedding_size=50):\n",
        "        super(Autoencoder, self).__init__()\n",
        "\n",
        "        self.user_embedding = nn.Embedding(num_users, embedding_size)\n",
        "        self.movie_embedding = nn.Embedding(num_movies, embedding_size)\n",
        "\n",
        "        self.encoder_fc1 = nn.Linear(embedding_size * 2, 256)\n",
        "        self.encoder_fc2 = nn.Linear(256, 128)\n",
        "        self.encoder_fc3 = nn.Linear(128, 64)\n",
        "\n",
        "        self.decoder_fc1 = nn.Linear(64, 128)\n",
        "        self.decoder_fc2 = nn.Linear(128, 256)\n",
        "        self.decoder_fc3 = nn.Linear(256, embedding_size * 2)\n",
        "        self.output_layer = nn.Linear(embedding_size * 2, 1)\n",
        "\n",
        "    def forward(self, user, movie):\n",
        "        user_embedded = self.user_embedding(user)\n",
        "        movie_embedded = self.movie_embedding(movie)\n",
        "        x = torch.cat([user_embedded, movie_embedded], dim=1)\n",
        "\n",
        "        x = torch.relu(self.encoder_fc1(x))\n",
        "        x = torch.relu(self.encoder_fc2(x))\n",
        "        x = torch.relu(self.encoder_fc3(x))\n",
        "\n",
        "        x = torch.relu(self.decoder_fc1(x))\n",
        "        x = torch.relu(self.decoder_fc2(x))\n",
        "        x = self.decoder_fc3(x)\n",
        "        x = self.output_layer(x)\n",
        "        return x"
      ]
    },
    {
      "cell_type": "code",
      "execution_count": null,
      "metadata": {
        "id": "nidzea5u-C-V"
      },
      "outputs": [],
      "source": [
        "# Định nghĩa mô hình MLP trong NCF\n",
        "class NCF_MLP(nn.Module):\n",
        "    def __init__(self, num_users, num_movies, embedding_size=50):\n",
        "        super(NCF_MLP, self).__init__() #Gọi hàm khởi tạo của lớp cha\n",
        "        self.user_embedding = nn.Embedding(num_users, embedding_size)\n",
        "        self.movie_embedding = nn.Embedding(num_movies, embedding_size)\n",
        "\n",
        "        hidden_layers = [256, 128, 64]\n",
        "        input_size = embedding_size * 2\n",
        "        layers = [] #chứa các lớp FC nối tiếp nhau\n",
        "        for hidden_layer_size in hidden_layers:\n",
        "            layers.append(nn.Linear(input_size, hidden_layer_size))\n",
        "            layers.append(nn.ReLU())\n",
        "            input_size = hidden_layer_size #update\n",
        "\n",
        "        self.mlp_layers = nn.Sequential(*layers)\n",
        "        self.output_layer = nn.Linear(hidden_layers[-1], 1)\n",
        "\n",
        "    def forward(self, user, movie):\n",
        "        user_embedded = self.user_embedding(user)\n",
        "        movie_embedded = self.movie_embedding(movie)\n",
        "        x = torch.cat([user_embedded, movie_embedded], dim=1)\n",
        "        x = self.mlp_layers(x)\n",
        "        x = self.output_layer(x)\n",
        "        return x"
      ]
    },
    {
      "cell_type": "code",
      "execution_count": null,
      "metadata": {
        "id": "65qw2Fio-NRL"
      },
      "outputs": [],
      "source": [
        "autoencoder = Autoencoder(num_users, num_movies, embedding_size)\n",
        "ncf_model = NCF_MLP(num_users, num_movies, embedding_size)"
      ]
    },
    {
      "cell_type": "code",
      "execution_count": null,
      "metadata": {
        "colab": {
          "base_uri": "https://localhost:8080/",
          "height": 35
        },
        "id": "H6BSy7_3Tu6O",
        "outputId": "3c1f033f-91fe-4ef7-dfa2-139382945d75"
      },
      "outputs": [
        {
          "output_type": "execute_result",
          "data": {
            "text/plain": [
              "'\\n# Hàm mục tiêu: sử dụng MSE\\ncriterion = nn.MSELoss()\\nautoencoder_optimizer = optim.Adam(autoencoder.parameters(), lr=0.001)\\nncf_optimizer = optim.Adam(ncf_model.parameters(), lr=0.001)\\n'"
            ],
            "application/vnd.google.colaboratory.intrinsic+json": {
              "type": "string"
            }
          },
          "metadata": {},
          "execution_count": 36
        }
      ],
      "source": [
        "'''\n",
        "# Hàm mục tiêu: sử dụng MSE\n",
        "criterion = nn.MSELoss()\n",
        "autoencoder_optimizer = optim.Adam(autoencoder.parameters(), lr=0.001)\n",
        "ncf_optimizer = optim.Adam(ncf_model.parameters(), lr=0.001)\n",
        "'''"
      ]
    },
    {
      "cell_type": "code",
      "execution_count": null,
      "metadata": {
        "colab": {
          "base_uri": "https://localhost:8080/",
          "height": 70
        },
        "id": "BQ2KOAOu-xlS",
        "outputId": "bc211bef-b217-4999-d783-ea5a29113810"
      },
      "outputs": [
        {
          "output_type": "execute_result",
          "data": {
            "text/plain": [
              "'\\n# Huấn luyện mô hình Autoencoder\\ndef train_autoencoder():\\n    autoencoder.train()\\n    train_loss = 0\\n\\n\\n    for user, movie, rating in train_loader:\\n        user = user.long()\\n        movie = movie.long()\\n        rating = rating.float().view(-1) #định dạng lại kích thước view(-1) 1 mảng 1 chiều\\n\\n        autoencoder_optimizer.zero_grad()\\n        output = autoencoder(user, movie)\\n        loss = criterion(output.view(-1), rating)\\n        loss.backward()\\n        autoencoder_optimizer.step()\\n\\n        train_loss += loss.item()\\n\\n    return train_loss / len(train_loader)          # Trả về tổn thất trung bình trên toàn bộ tập huấn luyện\\n'"
            ],
            "application/vnd.google.colaboratory.intrinsic+json": {
              "type": "string"
            }
          },
          "metadata": {},
          "execution_count": 37
        }
      ],
      "source": [
        "'''\n",
        "# Huấn luyện mô hình Autoencoder\n",
        "def train_autoencoder():\n",
        "    autoencoder.train()\n",
        "    train_loss = 0\n",
        "\n",
        "\n",
        "    for user, movie, rating in train_loader:\n",
        "        user = user.long()\n",
        "        movie = movie.long()\n",
        "        rating = rating.float().view(-1) #định dạng lại kích thước view(-1) 1 mảng 1 chiều\n",
        "\n",
        "        autoencoder_optimizer.zero_grad()\n",
        "        output = autoencoder(user, movie)\n",
        "        loss = criterion(output.view(-1), rating)\n",
        "        loss.backward()\n",
        "        autoencoder_optimizer.step()\n",
        "\n",
        "        train_loss += loss.item()\n",
        "\n",
        "    return train_loss / len(train_loader)          # Trả về tổn thất trung bình trên toàn bộ tập huấn luyện\n",
        "'''"
      ]
    },
    {
      "cell_type": "code",
      "execution_count": null,
      "metadata": {
        "colab": {
          "base_uri": "https://localhost:8080/",
          "height": 70
        },
        "id": "E1PQkDu--ykA",
        "outputId": "376be8c2-8fe9-4f34-d831-2f40fac99201"
      },
      "outputs": [
        {
          "output_type": "execute_result",
          "data": {
            "text/plain": [
              "'\\n# Hàm huấn luyện cho mô hình MLP\\ndef train_ncf():\\n    ncf_model.train()\\n    train_loss = 0\\n    for user, movie, rating in train_loader:\\n        user = user.long()\\n        movie = movie.long()\\n        rating = rating.float().view(-1)\\n        ncf_optimizer.zero_grad()\\n        output = ncf_model(user, movie)\\n        loss = criterion(output.view(-1), rating)\\n        loss.backward()\\n        ncf_optimizer.step()\\n        train_loss += loss.item()\\n    return train_loss / len(train_loader)\\n'"
            ],
            "application/vnd.google.colaboratory.intrinsic+json": {
              "type": "string"
            }
          },
          "metadata": {},
          "execution_count": 38
        }
      ],
      "source": [
        "'''\n",
        "# Hàm huấn luyện cho mô hình MLP\n",
        "def train_ncf():\n",
        "    ncf_model.train()\n",
        "    train_loss = 0\n",
        "    for user, movie, rating in train_loader:\n",
        "        user = user.long()\n",
        "        movie = movie.long()\n",
        "        rating = rating.float().view(-1)\n",
        "        ncf_optimizer.zero_grad()\n",
        "        output = ncf_model(user, movie)\n",
        "        loss = criterion(output.view(-1), rating)\n",
        "        loss.backward()\n",
        "        ncf_optimizer.step()\n",
        "        train_loss += loss.item()\n",
        "    return train_loss / len(train_loader)\n",
        "'''"
      ]
    },
    {
      "cell_type": "code",
      "execution_count": null,
      "metadata": {
        "colab": {
          "base_uri": "https://localhost:8080/",
          "height": 53
        },
        "id": "Jqmex0Wp-3nD",
        "outputId": "f73ce0fe-39ed-4835-a7dc-c8ff018f9ab1"
      },
      "outputs": [
        {
          "output_type": "execute_result",
          "data": {
            "text/plain": [
              "\"\\nnum_epochs = 10\\n\\nfor epoch in range(num_epochs):\\n    autoencoder_loss = train_autoencoder()\\n    ncf_loss = train_ncf()\\n    print(f'Epoch {epoch+1}/{num_epochs}, Autoencoder Loss: {autoencoder_loss:.4f}, NCF Loss: {ncf_loss:.4f}')\\n\""
            ],
            "application/vnd.google.colaboratory.intrinsic+json": {
              "type": "string"
            }
          },
          "metadata": {},
          "execution_count": 39
        }
      ],
      "source": [
        "'''\n",
        "num_epochs = 10\n",
        "\n",
        "for epoch in range(num_epochs):\n",
        "    autoencoder_loss = train_autoencoder()\n",
        "    ncf_loss = train_ncf()\n",
        "    print(f'Epoch {epoch+1}/{num_epochs}, Autoencoder Loss: {autoencoder_loss:.4f}, NCF Loss: {ncf_loss:.4f}')\n",
        "'''"
      ]
    },
    {
      "cell_type": "markdown",
      "source": [
        "- Epoch 1/10, Autoencoder Loss: 1.3602, NCF Loss: 1.3493\n",
        "- Epoch 2/10, Autoencoder Loss: 0.8710, NCF Loss: 0.8617\n",
        "- Epoch 3/10, Autoencoder Loss: 0.8066, NCF Loss: 0.8012\n",
        "- Epoch 4/10, Autoencoder Loss: 0.7680, NCF Loss: 0.7587\n",
        "- Epoch 5/10, Autoencoder Loss: 0.7343, NCF Loss: 0.7264\n",
        "- Epoch 6/10, Autoencoder Loss: 0.7073, NCF Loss: 0.6993\n",
        "- Epoch 7/10, Autoencoder Loss: 0.6809, NCF Loss: 0.6773\n",
        "- Epoch 8/10, Autoencoder Loss: 0.6572, NCF Loss: 0.6568\n",
        "- Epoch 9/10, Autoencoder Loss: 0.6356, NCF Loss: 0.6381\n",
        "- Epoch 10/10, Autoencoder Loss: 0.6104, NCF Loss: 0.6209"
      ],
      "metadata": {
        "id": "cEKTJ1fidzxY"
      }
    },
    {
      "cell_type": "code",
      "source": [
        "'''\n",
        "# Lưu mô hình Autoencoder\n",
        "torch.save(autoencoder.state_dict(), '/content/drive/My Drive/Project4_Trần Đức Long_124211/autoencoder_model_real.pth')\n",
        "\n",
        "# Lưu mô hình NCF_MLP\n",
        "torch.save(ncf_model.state_dict(), '/content/drive/My Drive/Project4_Trần Đức Long_124211/ncf_mlp_model_real.pth')\n",
        "'''\n"
      ],
      "metadata": {
        "colab": {
          "base_uri": "https://localhost:8080/",
          "height": 53
        },
        "id": "nsSpkbTIzuj7",
        "outputId": "be5ab385-022c-49ac-c287-62bf82500cd8"
      },
      "execution_count": null,
      "outputs": [
        {
          "output_type": "execute_result",
          "data": {
            "text/plain": [
              "\"\\n# Lưu mô hình Autoencoder\\ntorch.save(autoencoder.state_dict(), '/content/drive/My Drive/Project4_Trần Đức Long_124211/autoencoder_model_real.pth')\\n\\n# Lưu mô hình NCF_MLP\\ntorch.save(ncf_model.state_dict(), '/content/drive/My Drive/Project4_Trần Đức Long_124211/ncf_mlp_model_real.pth')\\n\""
            ],
            "application/vnd.google.colaboratory.intrinsic+json": {
              "type": "string"
            }
          },
          "metadata": {},
          "execution_count": 40
        }
      ]
    },
    {
      "cell_type": "code",
      "source": [
        "\n",
        "#Tải mô hình đã lưu\n",
        "autoencoder.load_state_dict(torch.load('/content/drive/My Drive/Project4_Trần Đức Long_124211/autoencoder_model_real.pth'))\n",
        "ncf_model.load_state_dict(torch.load('/content/drive/My Drive/Project4_Trần Đức Long_124211/ncf_mlp_model_real.pth'))\n"
      ],
      "metadata": {
        "colab": {
          "base_uri": "https://localhost:8080/"
        },
        "id": "t_gCPyQjzes8",
        "outputId": "fd8607da-7bb5-4d43-f147-438578419b7e"
      },
      "execution_count": null,
      "outputs": [
        {
          "output_type": "stream",
          "name": "stderr",
          "text": [
            "<ipython-input-41-9edb0c8379b6>:2: FutureWarning: You are using `torch.load` with `weights_only=False` (the current default value), which uses the default pickle module implicitly. It is possible to construct malicious pickle data which will execute arbitrary code during unpickling (See https://github.com/pytorch/pytorch/blob/main/SECURITY.md#untrusted-models for more details). In a future release, the default value for `weights_only` will be flipped to `True`. This limits the functions that could be executed during unpickling. Arbitrary objects will no longer be allowed to be loaded via this mode unless they are explicitly allowlisted by the user via `torch.serialization.add_safe_globals`. We recommend you start setting `weights_only=True` for any use case where you don't have full control of the loaded file. Please open an issue on GitHub for any issues related to this experimental feature.\n",
            "  autoencoder.load_state_dict(torch.load('/content/drive/My Drive/Project4_Trần Đức Long_124211/autoencoder_model_real.pth'))\n",
            "<ipython-input-41-9edb0c8379b6>:3: FutureWarning: You are using `torch.load` with `weights_only=False` (the current default value), which uses the default pickle module implicitly. It is possible to construct malicious pickle data which will execute arbitrary code during unpickling (See https://github.com/pytorch/pytorch/blob/main/SECURITY.md#untrusted-models for more details). In a future release, the default value for `weights_only` will be flipped to `True`. This limits the functions that could be executed during unpickling. Arbitrary objects will no longer be allowed to be loaded via this mode unless they are explicitly allowlisted by the user via `torch.serialization.add_safe_globals`. We recommend you start setting `weights_only=True` for any use case where you don't have full control of the loaded file. Please open an issue on GitHub for any issues related to this experimental feature.\n",
            "  ncf_model.load_state_dict(torch.load('/content/drive/My Drive/Project4_Trần Đức Long_124211/ncf_mlp_model_real.pth'))\n"
          ]
        },
        {
          "output_type": "execute_result",
          "data": {
            "text/plain": [
              "<All keys matched successfully>"
            ]
          },
          "metadata": {},
          "execution_count": 41
        }
      ]
    },
    {
      "cell_type": "code",
      "source": [
        "print(autoencoder)"
      ],
      "metadata": {
        "colab": {
          "base_uri": "https://localhost:8080/"
        },
        "id": "G21BnBeF6kqD",
        "outputId": "732cc9e8-c451-444a-b6ea-36061b4d62ef"
      },
      "execution_count": null,
      "outputs": [
        {
          "output_type": "stream",
          "name": "stdout",
          "text": [
            "Autoencoder(\n",
            "  (user_embedding): Embedding(757, 50)\n",
            "  (movie_embedding): Embedding(9548, 50)\n",
            "  (encoder_fc1): Linear(in_features=100, out_features=256, bias=True)\n",
            "  (encoder_fc2): Linear(in_features=256, out_features=128, bias=True)\n",
            "  (encoder_fc3): Linear(in_features=128, out_features=64, bias=True)\n",
            "  (decoder_fc1): Linear(in_features=64, out_features=128, bias=True)\n",
            "  (decoder_fc2): Linear(in_features=128, out_features=256, bias=True)\n",
            "  (decoder_fc3): Linear(in_features=256, out_features=100, bias=True)\n",
            "  (output_layer): Linear(in_features=100, out_features=1, bias=True)\n",
            ")\n"
          ]
        }
      ]
    },
    {
      "cell_type": "code",
      "source": [
        "print(ncf_model)"
      ],
      "metadata": {
        "colab": {
          "base_uri": "https://localhost:8080/"
        },
        "id": "DkWqAN4a6lzU",
        "outputId": "3e47d022-e2db-409c-8ec0-292e64d28e0f"
      },
      "execution_count": null,
      "outputs": [
        {
          "output_type": "stream",
          "name": "stdout",
          "text": [
            "NCF_MLP(\n",
            "  (user_embedding): Embedding(757, 50)\n",
            "  (movie_embedding): Embedding(9548, 50)\n",
            "  (mlp_layers): Sequential(\n",
            "    (0): Linear(in_features=100, out_features=256, bias=True)\n",
            "    (1): ReLU()\n",
            "    (2): Linear(in_features=256, out_features=128, bias=True)\n",
            "    (3): ReLU()\n",
            "    (4): Linear(in_features=128, out_features=64, bias=True)\n",
            "    (5): ReLU()\n",
            "  )\n",
            "  (output_layer): Linear(in_features=64, out_features=1, bias=True)\n",
            ")\n"
          ]
        }
      ]
    },
    {
      "cell_type": "markdown",
      "metadata": {
        "id": "iRM235UZ6u0a"
      },
      "source": [
        "# Metrics RMSE & MAE"
      ]
    },
    {
      "cell_type": "code",
      "execution_count": null,
      "metadata": {
        "id": "Ta1iPgWX_gSV"
      },
      "outputs": [],
      "source": [
        "def evaluate_model(model, dataloader):\n",
        "    model.eval()\n",
        "    predictions = []\n",
        "    actuals = []\n",
        "    with torch.no_grad():\n",
        "        for user, movie, rating in dataloader:\n",
        "            user = user.long()\n",
        "            movie = movie.long()\n",
        "            output = model(user, movie)\n",
        "            predictions.extend(output.numpy().flatten())\n",
        "            actuals.extend(rating.numpy().flatten())\n",
        "\n",
        "    mse = mean_squared_error(actuals, predictions)\n",
        "    rmse = np.sqrt(mse)\n",
        "    mae = mean_absolute_error(actuals, predictions)\n",
        "\n",
        "    return rmse, mae"
      ]
    },
    {
      "cell_type": "code",
      "execution_count": null,
      "metadata": {
        "id": "1PDrkMu2_hVn",
        "colab": {
          "base_uri": "https://localhost:8080/"
        },
        "outputId": "f4ee4606-30b0-496a-dc1a-98dc90198e38"
      },
      "outputs": [
        {
          "output_type": "stream",
          "name": "stdout",
          "text": [
            "Autoencoder RMSE: 0.9219, MAE: 0.7042\n",
            "NCF RMSE: 0.8978, MAE: 0.6973\n"
          ]
        }
      ],
      "source": [
        "#Đánh giá mô hình\n",
        "autoencoder_rmse, autoencoder_mae = evaluate_model(autoencoder, test_loader)\n",
        "ncf_rmse, ncf_mae = evaluate_model(ncf_model, test_loader)\n",
        "\n",
        "print(f'Autoencoder RMSE: {autoencoder_rmse:.4f}, MAE: {autoencoder_mae:.4f}')\n",
        "print(f'NCF RMSE: {ncf_rmse:.4f}, MAE: {ncf_mae:.4f}')"
      ]
    },
    {
      "cell_type": "markdown",
      "metadata": {
        "id": "rHictPxu7T21"
      },
      "source": [
        "# Cosine similarity"
      ]
    },
    {
      "cell_type": "code",
      "execution_count": null,
      "metadata": {
        "id": "rdR9oAvg7XmX",
        "colab": {
          "base_uri": "https://localhost:8080/",
          "height": 35
        },
        "outputId": "bf184b19-2121-460c-b415-6f9a82524453"
      },
      "outputs": [
        {
          "output_type": "execute_result",
          "data": {
            "text/plain": [
              "'\\n# Tính cosine similarity cho movie\\ndef cosine_similarity_matrix(embeddings):\\n    normalized_embeddings = F.normalize(embeddings, p=2, dim=1)\\n    return torch.mm(normalized_embeddings, normalized_embeddings.t())\\n'"
            ],
            "application/vnd.google.colaboratory.intrinsic+json": {
              "type": "string"
            }
          },
          "metadata": {},
          "execution_count": 46
        }
      ],
      "source": [
        "'''\n",
        "# Tính cosine similarity cho movie\n",
        "def cosine_similarity_matrix(embeddings):\n",
        "    normalized_embeddings = F.normalize(embeddings, p=2, dim=1)\n",
        "    return torch.mm(normalized_embeddings, normalized_embeddings.t())\n",
        "'''"
      ]
    },
    {
      "cell_type": "code",
      "execution_count": null,
      "metadata": {
        "id": "kyatdSM57cM4",
        "colab": {
          "base_uri": "https://localhost:8080/",
          "height": 53
        },
        "outputId": "534a0f4c-8ae3-494b-bdb0-c0b022398970"
      },
      "outputs": [
        {
          "output_type": "execute_result",
          "data": {
            "text/plain": [
              "'\\n# Hàm tính similarity cho tất cả các movie\\ndef movie_similarity(ncf_model, num_movies):\\n    with torch.no_grad():\\n        movie_embeddings = ncf_model.movie_embedding.weight\\n        similarity_matrix = cosine_similarity_matrix(movie_embeddings)\\n    return similarity_matrix.numpy()\\n'"
            ],
            "application/vnd.google.colaboratory.intrinsic+json": {
              "type": "string"
            }
          },
          "metadata": {},
          "execution_count": 47
        }
      ],
      "source": [
        "'''\n",
        "# Hàm tính similarity cho tất cả các movie\n",
        "def movie_similarity(ncf_model, num_movies):\n",
        "    with torch.no_grad():\n",
        "        movie_embeddings = ncf_model.movie_embedding.weight\n",
        "        similarity_matrix = cosine_similarity_matrix(movie_embeddings)\n",
        "    return similarity_matrix.numpy()\n",
        "'''"
      ]
    },
    {
      "cell_type": "code",
      "execution_count": null,
      "metadata": {
        "id": "HZP9uC4y7d-i",
        "colab": {
          "base_uri": "https://localhost:8080/",
          "height": 35
        },
        "outputId": "b1517190-80d6-4eb5-eb6a-ccc8f743fd9d"
      },
      "outputs": [
        {
          "output_type": "execute_result",
          "data": {
            "text/plain": [
              "'\\n# Tính similarity cho các movie\\nmovie_similarity = movie_similarity(ncf_model, num_movies)\\n'"
            ],
            "application/vnd.google.colaboratory.intrinsic+json": {
              "type": "string"
            }
          },
          "metadata": {},
          "execution_count": 48
        }
      ],
      "source": [
        "'''\n",
        "# Tính similarity cho các movie\n",
        "movie_similarity = movie_similarity(ncf_model, num_movies)\n",
        "'''"
      ]
    },
    {
      "cell_type": "code",
      "source": [
        "'''\n",
        "import pickle\n",
        "\n",
        "# Định nghĩa đường dẫn file\n",
        "file_path = '/content/drive/My Drive/Project4_Trần Đức Long_124211/movie_similarity_real.pkl'\n",
        "\n",
        "# Lưu ma trận similarity vào file .pkl bằng pickle\n",
        "with open(file_path, 'wb') as f:\n",
        "    pickle.dump(movie_similarity, f)\n",
        "\n",
        "print(\"Đã lưu ma trận similarity vào file .pkl.\")\n",
        "'''"
      ],
      "metadata": {
        "colab": {
          "base_uri": "https://localhost:8080/",
          "height": 53
        },
        "id": "51dArLpWzrfu",
        "outputId": "0170f471-1b4c-478b-9f77-c18a425d7ca1"
      },
      "execution_count": null,
      "outputs": [
        {
          "output_type": "execute_result",
          "data": {
            "text/plain": [
              "'\\nimport pickle\\n\\n# Định nghĩa đường dẫn file\\nfile_path = \\'/content/drive/My Drive/Project4_Trần Đức Long_124211/movie_similarity_real.pkl\\'\\n\\n# Lưu ma trận similarity vào file .pkl bằng pickle\\nwith open(file_path, \\'wb\\') as f:\\n    pickle.dump(movie_similarity, f)\\n\\nprint(\"Đã lưu ma trận similarity vào file .pkl.\")\\n'"
            ],
            "application/vnd.google.colaboratory.intrinsic+json": {
              "type": "string"
            }
          },
          "metadata": {},
          "execution_count": 49
        }
      ]
    },
    {
      "cell_type": "code",
      "source": [
        "\n",
        "# Tải ma trận similarity từ tệp đã lưu\n",
        "file_path_similarity = '/content/drive/My Drive/Project4_Trần Đức Long_124211/movie_similarity_real.pkl'\n",
        "movie_similarity = pd.read_pickle(file_path_similarity)\n"
      ],
      "metadata": {
        "id": "Bw5zW3rfc89i"
      },
      "execution_count": null,
      "outputs": []
    },
    {
      "cell_type": "markdown",
      "metadata": {
        "id": "nNd_GmnX60Mt"
      },
      "source": [
        "# Hàm gợi ý phim"
      ]
    },
    {
      "cell_type": "code",
      "source": [
        "list_title = dict(zip(movie['movieId'], movie['title']))"
      ],
      "metadata": {
        "id": "q5ExcZp8pUj6"
      },
      "execution_count": null,
      "outputs": []
    },
    {
      "cell_type": "code",
      "execution_count": null,
      "metadata": {
        "id": "SVAmLg2qJ61E"
      },
      "outputs": [],
      "source": [
        "# Hàm gợi ý phim\n",
        "def get_movie_recommendations(movie_id, similarity_matrix, movie_ids, list_title, top_n=10):\n",
        "    movie_idx = movie_id_to_index[movie_id]\n",
        "    similar_indices = np.argsort(similarity_matrix[movie_idx])[-top_n-1:-1][::-1]\n",
        "    recommended_movies = [list_title[movie_ids[i]] for i in similar_indices]\n",
        "    return recommended_movies"
      ]
    },
    {
      "cell_type": "code",
      "execution_count": null,
      "metadata": {
        "id": "g4WfVI2yRJCi",
        "colab": {
          "base_uri": "https://localhost:8080/"
        },
        "outputId": "1e3bdd9f-8592-4e07-8b1a-b426185a9f7f"
      },
      "outputs": [
        {
          "output_type": "stream",
          "name": "stdout",
          "text": [
            "Recommended Movies:\n",
            "1. Topsy-Turvy (1999)\n",
            "2. Crossroads (2002)\n",
            "3. Tomorrow Was the War (1987)\n",
            "4. House Party (1990)\n",
            "5. Help! (1965)\n",
            "6. Whiskey Tango Foxtrot (2016)\n",
            "7. Big Short, The (2015)\n",
            "8. Peter Pan (2003)\n",
            "9. I Was a Male War Bride (1949)\n",
            "10. Psychometry (2013)\n"
          ]
        }
      ],
      "source": [
        "id_movie = 99\n",
        "recommended_movies = get_movie_recommendations( id_movie, movie_similarity, movie_ids, list_title)\n",
        "print(\"Recommended Movies:\")\n",
        "for index, movie in enumerate(recommended_movies, start=1):\n",
        "    print(f\"{index}. {movie}\")"
      ]
    },
    {
      "cell_type": "code",
      "execution_count": null,
      "metadata": {
        "id": "L1BZGpkH7wsU",
        "colab": {
          "base_uri": "https://localhost:8080/",
          "height": 35
        },
        "outputId": "da71211b-a375-4265-dc5c-b8d49a54c765"
      },
      "outputs": [
        {
          "output_type": "execute_result",
          "data": {
            "text/plain": [
              "\"\\nfile_path = '/content/drive/My Drive/Project4_Trần Đức Long_124211/data.pkl'\\n\\n# Lưu DataFrame vào file .pkl\\ndata.to_pickle(file_path)\\n\""
            ],
            "application/vnd.google.colaboratory.intrinsic+json": {
              "type": "string"
            }
          },
          "metadata": {},
          "execution_count": 54
        }
      ],
      "source": [
        "'''\n",
        "file_path = '/content/drive/My Drive/Project4_Trần Đức Long_124211/data.pkl'\n",
        "\n",
        "# Lưu DataFrame vào file .pkl\n",
        "data.to_pickle(file_path)\n",
        "'''\n"
      ]
    },
    {
      "cell_type": "markdown",
      "metadata": {
        "id": "O88Ctr_27uY9"
      },
      "source": [
        "Dataset: https://www.kaggle.com/datasets/garymk/movielens-25m-dataset/data"
      ]
    }
  ],
  "metadata": {
    "colab": {
      "provenance": [],
      "authorship_tag": "ABX9TyMykmIdy6QJIRWxwf2R7p9I",
      "include_colab_link": true
    },
    "kernelspec": {
      "display_name": "Python 3",
      "name": "python3"
    },
    "language_info": {
      "name": "python"
    }
  },
  "nbformat": 4,
  "nbformat_minor": 0
}
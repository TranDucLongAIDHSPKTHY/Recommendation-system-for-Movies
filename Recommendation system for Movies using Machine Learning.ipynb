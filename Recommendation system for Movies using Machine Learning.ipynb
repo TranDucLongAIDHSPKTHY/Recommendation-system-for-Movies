{
 "cells": [
  {
   "cell_type": "code",
   "execution_count": 7,
   "id": "09bc45f0",
   "metadata": {},
   "outputs": [],
   "source": [
    "import numpy as np\n",
    "import pandas as pd\n",
    "from sklearn.model_selection import train_test_split\n",
    "from tensorflow.keras.models import Sequential\n",
    "from tensorflow.keras.layers import Dense"
   ]
  },
  {
   "cell_type": "code",
   "execution_count": 8,
   "id": "c25622b6",
   "metadata": {},
   "outputs": [
    {
     "name": "stderr",
     "output_type": "stream",
     "text": [
      "C:\\Users\\Admin\\AppData\\Local\\Temp\\ipykernel_10660\\913066160.py:1: DtypeWarning: Columns (7,8) have mixed types. Specify dtype option on import or set low_memory=False.\n",
      "  movies = pd.read_csv(r\"D:\\Project3\\data\\movies.csv\")\n"
     ]
    }
   ],
   "source": [
    "movies = pd.read_csv(r\"D:\\Project3\\data\\movies.csv\")"
   ]
  },
  {
   "cell_type": "code",
   "execution_count": 9,
   "id": "69f17cb8",
   "metadata": {},
   "outputs": [
    {
     "data": {
      "text/html": [
       "<div>\n",
       "<style scoped>\n",
       "    .dataframe tbody tr th:only-of-type {\n",
       "        vertical-align: middle;\n",
       "    }\n",
       "\n",
       "    .dataframe tbody tr th {\n",
       "        vertical-align: top;\n",
       "    }\n",
       "\n",
       "    .dataframe thead th {\n",
       "        text-align: right;\n",
       "    }\n",
       "</style>\n",
       "<table border=\"1\" class=\"dataframe\">\n",
       "  <thead>\n",
       "    <tr style=\"text-align: right;\">\n",
       "      <th></th>\n",
       "      <th>id</th>\n",
       "      <th>name</th>\n",
       "      <th>year</th>\n",
       "      <th>rating</th>\n",
       "      <th>certificate</th>\n",
       "      <th>duration</th>\n",
       "      <th>genre</th>\n",
       "      <th>votes</th>\n",
       "      <th>gross_income</th>\n",
       "      <th>directors_id</th>\n",
       "      <th>directors_name</th>\n",
       "      <th>stars_id</th>\n",
       "      <th>stars_name</th>\n",
       "      <th>description</th>\n",
       "    </tr>\n",
       "  </thead>\n",
       "  <tbody>\n",
       "    <tr>\n",
       "      <th>0</th>\n",
       "      <td>tt4710316</td>\n",
       "      <td>Best in Sex: 2015 AVN Awards</td>\n",
       "      <td>(2015 TV Special)</td>\n",
       "      <td>4.0</td>\n",
       "      <td>TV-MA</td>\n",
       "      <td>94 min</td>\n",
       "      <td>Adult, News</td>\n",
       "      <td>124.0</td>\n",
       "      <td>0</td>\n",
       "      <td>nm1624094</td>\n",
       "      <td>Gary Miller</td>\n",
       "      <td>nm4766272,nm2670531,nm4920605,nm6284246</td>\n",
       "      <td>Farrah Laurel Abraham,Asa Akira,Anikka Albrite...</td>\n",
       "      <td>The hottest adult stars and top adult movies a...</td>\n",
       "    </tr>\n",
       "    <tr>\n",
       "      <th>1</th>\n",
       "      <td>tt1281857</td>\n",
       "      <td>Naughty Novelist</td>\n",
       "      <td>(2008 Video)</td>\n",
       "      <td>3.8</td>\n",
       "      <td>Not Certified</td>\n",
       "      <td>88 min</td>\n",
       "      <td>Adult</td>\n",
       "      <td>174.0</td>\n",
       "      <td>0</td>\n",
       "      <td>nm0045256</td>\n",
       "      <td>John Bacchus</td>\n",
       "      <td>nm0128986,nm1969196,nm0451160,nm6130462</td>\n",
       "      <td>Darian Caine,Jackie Stevens,A.J. Khan,Arrora</td>\n",
       "      <td>Darian is a successful journalist but when she...</td>\n",
       "    </tr>\n",
       "    <tr>\n",
       "      <th>2</th>\n",
       "      <td>tt2294954</td>\n",
       "      <td>2011 AVN Awards Show</td>\n",
       "      <td>(2011 TV Special)</td>\n",
       "      <td>5.7</td>\n",
       "      <td>Not Certified</td>\n",
       "      <td>83 min</td>\n",
       "      <td>Adult, News</td>\n",
       "      <td>39.0</td>\n",
       "      <td>0</td>\n",
       "      <td>nm1624094,nm0754845</td>\n",
       "      <td>Gary Miller,Timothy E. Sabo</td>\n",
       "      <td>nm2200343,nm2670531,nm1267549,nm3585599</td>\n",
       "      <td>Aubrey Addams,Asa Akira,Monique Alexander,Rave...</td>\n",
       "      <td>Add a Plot</td>\n",
       "    </tr>\n",
       "    <tr>\n",
       "      <th>3</th>\n",
       "      <td>tt6843596</td>\n",
       "      <td>Best in Sex: 2017 AVN Awards</td>\n",
       "      <td>(2017 TV Special)</td>\n",
       "      <td>4.9</td>\n",
       "      <td>TV-MA</td>\n",
       "      <td>87 min</td>\n",
       "      <td>Adult, News</td>\n",
       "      <td>225.0</td>\n",
       "      <td>0</td>\n",
       "      <td>nm1624094</td>\n",
       "      <td>Gary Miller</td>\n",
       "      <td>nm5221471,nm2670531,nm4920605,nm3038816</td>\n",
       "      <td>Amirah Adara,Asa Akira,Anikka Albrite,Britney ...</td>\n",
       "      <td>Considered the industry's highest honor, the A...</td>\n",
       "    </tr>\n",
       "    <tr>\n",
       "      <th>4</th>\n",
       "      <td>tt3705604</td>\n",
       "      <td>AVN Awards 2014</td>\n",
       "      <td>(2014 TV Special)</td>\n",
       "      <td>6.7</td>\n",
       "      <td>R</td>\n",
       "      <td>82 min</td>\n",
       "      <td>Adult, News</td>\n",
       "      <td>101.0</td>\n",
       "      <td>0</td>\n",
       "      <td>nm1624094</td>\n",
       "      <td>Gary Miller</td>\n",
       "      <td>nm2670531,nm4920605,nm6284246,nm3992720</td>\n",
       "      <td>Asa Akira,Anikka Albrite,August Ames,Jessie An...</td>\n",
       "      <td>Erotic filmmaking superstars Chanel Preston an...</td>\n",
       "    </tr>\n",
       "  </tbody>\n",
       "</table>\n",
       "</div>"
      ],
      "text/plain": [
       "          id                          name               year  rating  \\\n",
       "0  tt4710316  Best in Sex: 2015 AVN Awards  (2015 TV Special)     4.0   \n",
       "1  tt1281857              Naughty Novelist       (2008 Video)     3.8   \n",
       "2  tt2294954          2011 AVN Awards Show  (2011 TV Special)     5.7   \n",
       "3  tt6843596  Best in Sex: 2017 AVN Awards  (2017 TV Special)     4.9   \n",
       "4  tt3705604               AVN Awards 2014  (2014 TV Special)     6.7   \n",
       "\n",
       "     certificate duration        genre  votes gross_income  \\\n",
       "0          TV-MA   94 min  Adult, News  124.0            0   \n",
       "1  Not Certified   88 min        Adult  174.0            0   \n",
       "2  Not Certified   83 min  Adult, News   39.0            0   \n",
       "3          TV-MA   87 min  Adult, News  225.0            0   \n",
       "4              R   82 min  Adult, News  101.0            0   \n",
       "\n",
       "          directors_id               directors_name  \\\n",
       "0            nm1624094                  Gary Miller   \n",
       "1            nm0045256                 John Bacchus   \n",
       "2  nm1624094,nm0754845  Gary Miller,Timothy E. Sabo   \n",
       "3            nm1624094                  Gary Miller   \n",
       "4            nm1624094                  Gary Miller   \n",
       "\n",
       "                                  stars_id  \\\n",
       "0  nm4766272,nm2670531,nm4920605,nm6284246   \n",
       "1  nm0128986,nm1969196,nm0451160,nm6130462   \n",
       "2  nm2200343,nm2670531,nm1267549,nm3585599   \n",
       "3  nm5221471,nm2670531,nm4920605,nm3038816   \n",
       "4  nm2670531,nm4920605,nm6284246,nm3992720   \n",
       "\n",
       "                                          stars_name  \\\n",
       "0  Farrah Laurel Abraham,Asa Akira,Anikka Albrite...   \n",
       "1       Darian Caine,Jackie Stevens,A.J. Khan,Arrora   \n",
       "2  Aubrey Addams,Asa Akira,Monique Alexander,Rave...   \n",
       "3  Amirah Adara,Asa Akira,Anikka Albrite,Britney ...   \n",
       "4  Asa Akira,Anikka Albrite,August Ames,Jessie An...   \n",
       "\n",
       "                                         description  \n",
       "0  The hottest adult stars and top adult movies a...  \n",
       "1  Darian is a successful journalist but when she...  \n",
       "2                                         Add a Plot  \n",
       "3  Considered the industry's highest honor, the A...  \n",
       "4  Erotic filmmaking superstars Chanel Preston an...  "
      ]
     },
     "execution_count": 9,
     "metadata": {},
     "output_type": "execute_result"
    }
   ],
   "source": [
    "movies.head(5)"
   ]
  },
  {
   "cell_type": "code",
   "execution_count": 10,
   "id": "8c7b3c55",
   "metadata": {},
   "outputs": [
    {
     "data": {
      "text/plain": [
       "(2590932, 14)"
      ]
     },
     "execution_count": 10,
     "metadata": {},
     "output_type": "execute_result"
    }
   ],
   "source": [
    "movies.shape"
   ]
  },
  {
   "cell_type": "code",
   "execution_count": 11,
   "id": "5150443c",
   "metadata": {},
   "outputs": [],
   "source": [
    "movies_small = movies.head(4000)"
   ]
  },
  {
   "cell_type": "code",
   "execution_count": 12,
   "id": "fa669472",
   "metadata": {},
   "outputs": [
    {
     "data": {
      "text/plain": [
       "(4000, 14)"
      ]
     },
     "execution_count": 12,
     "metadata": {},
     "output_type": "execute_result"
    }
   ],
   "source": [
    "movies_small.shape"
   ]
  },
  {
   "cell_type": "code",
   "execution_count": 13,
   "id": "78a6814a",
   "metadata": {},
   "outputs": [
    {
     "name": "stdout",
     "output_type": "stream",
     "text": [
      "<class 'pandas.core.frame.DataFrame'>\n",
      "RangeIndex: 4000 entries, 0 to 3999\n",
      "Data columns (total 14 columns):\n",
      " #   Column          Non-Null Count  Dtype  \n",
      "---  ------          --------------  -----  \n",
      " 0   id              4000 non-null   object \n",
      " 1   name            4000 non-null   object \n",
      " 2   year            4000 non-null   object \n",
      " 3   rating          4000 non-null   float64\n",
      " 4   certificate     4000 non-null   object \n",
      " 5   duration        4000 non-null   object \n",
      " 6   genre           4000 non-null   object \n",
      " 7   votes           4000 non-null   object \n",
      " 8   gross_income    4000 non-null   object \n",
      " 9   directors_id    4000 non-null   object \n",
      " 10  directors_name  4000 non-null   object \n",
      " 11  stars_id        4000 non-null   object \n",
      " 12  stars_name      4000 non-null   object \n",
      " 13  description     4000 non-null   object \n",
      "dtypes: float64(1), object(13)\n",
      "memory usage: 437.6+ KB\n"
     ]
    }
   ],
   "source": [
    "movies_small.info()"
   ]
  },
  {
   "cell_type": "markdown",
   "id": "ff38c488",
   "metadata": {},
   "source": [
    "# Tiền xử lý dữ liệu"
   ]
  },
  {
   "cell_type": "code",
   "execution_count": 14,
   "id": "434456f7",
   "metadata": {},
   "outputs": [
    {
     "name": "stdout",
     "output_type": "stream",
     "text": [
      "id                0\n",
      "name              0\n",
      "year              0\n",
      "rating            0\n",
      "certificate       0\n",
      "duration          0\n",
      "genre             0\n",
      "votes             0\n",
      "gross_income      0\n",
      "directors_id      0\n",
      "directors_name    0\n",
      "stars_id          0\n",
      "stars_name        0\n",
      "description       0\n",
      "dtype: int64\n"
     ]
    }
   ],
   "source": [
    "# Kiểm tra các giá trị thiếu\n",
    "print(movies_small.isnull().sum())"
   ]
  },
  {
   "cell_type": "code",
   "execution_count": 15,
   "id": "b651365f",
   "metadata": {},
   "outputs": [
    {
     "name": "stdout",
     "output_type": "stream",
     "text": [
      "0\n"
     ]
    }
   ],
   "source": [
    "# Kiểm tra các giá trị trùng lặp\n",
    "print(movies_small.duplicated().sum())"
   ]
  },
  {
   "cell_type": "code",
   "execution_count": 16,
   "id": "94fd7f07",
   "metadata": {},
   "outputs": [
    {
     "name": "stderr",
     "output_type": "stream",
     "text": [
      "[nltk_data] Downloading package punkt to\n",
      "[nltk_data]     C:\\Users\\Admin\\AppData\\Roaming\\nltk_data...\n",
      "[nltk_data]   Package punkt is already up-to-date!\n",
      "[nltk_data] Downloading package stopwords to\n",
      "[nltk_data]     C:\\Users\\Admin\\AppData\\Roaming\\nltk_data...\n",
      "[nltk_data]   Package stopwords is already up-to-date!\n"
     ]
    },
    {
     "data": {
      "text/plain": [
       "True"
      ]
     },
     "execution_count": 16,
     "metadata": {},
     "output_type": "execute_result"
    }
   ],
   "source": [
    "from sklearn.feature_extraction.text import TfidfVectorizer\n",
    "from sklearn.metrics.pairwise import cosine_similarity\n",
    "import nltk\n",
    "from nltk.corpus import stopwords\n",
    "from nltk.tokenize import word_tokenize\n",
    "nltk.download('punkt')\n",
    "nltk.download('stopwords')"
   ]
  },
  {
   "cell_type": "markdown",
   "id": "7ebb0579",
   "metadata": {},
   "source": [
    "# Các đặc trưng văn bản thường có các dấu hiệu như sau:\n",
    "\n",
    "- Chứa các đoạn văn bản dài hoặc ngắn.\n",
    "- Có định dạng là chuỗi ký tự.\n",
    "- Thường chứa các từ khóa hoặc cụm từ có ý nghĩa cụ thể liên quan đến nội dung (ví dụ: mô tả phim, thể loại phim, tên đạo diễn, tên diễn viên).\n",
    "- Trong tập dữ liệu này, các cột như description, genre, directors_name, stars_name là các đặc trưng văn bản vì chúng chứa thông tin dạng chuỗi ký tự mô tả về phim."
   ]
  },
  {
   "cell_type": "code",
   "execution_count": 17,
   "id": "3d553330",
   "metadata": {},
   "outputs": [
    {
     "name": "stderr",
     "output_type": "stream",
     "text": [
      "C:\\Users\\Admin\\AppData\\Local\\Temp\\ipykernel_10660\\1892384614.py:2: SettingWithCopyWarning: \n",
      "A value is trying to be set on a copy of a slice from a DataFrame.\n",
      "Try using .loc[row_indexer,col_indexer] = value instead\n",
      "\n",
      "See the caveats in the documentation: https://pandas.pydata.org/pandas-docs/stable/user_guide/indexing.html#returning-a-view-versus-a-copy\n",
      "  movies_small['tags'] = movies_small['genre'] + ' ' + movies_small['stars_name'] + ' ' + movies_small['directors_name'] + ' ' + movies_small['description']\n"
     ]
    }
   ],
   "source": [
    "# Gộp các cột genres, stars, description, director lại với nhau\n",
    "movies_small['tags'] = movies_small['genre'] + ' ' + movies_small['stars_name'] + ' ' + movies_small['directors_name'] + ' ' + movies_small['description'] \n"
   ]
  },
  {
   "cell_type": "code",
   "execution_count": 18,
   "id": "aed996ae",
   "metadata": {},
   "outputs": [
    {
     "data": {
      "text/html": [
       "<div>\n",
       "<style scoped>\n",
       "    .dataframe tbody tr th:only-of-type {\n",
       "        vertical-align: middle;\n",
       "    }\n",
       "\n",
       "    .dataframe tbody tr th {\n",
       "        vertical-align: top;\n",
       "    }\n",
       "\n",
       "    .dataframe thead th {\n",
       "        text-align: right;\n",
       "    }\n",
       "</style>\n",
       "<table border=\"1\" class=\"dataframe\">\n",
       "  <thead>\n",
       "    <tr style=\"text-align: right;\">\n",
       "      <th></th>\n",
       "      <th>name</th>\n",
       "      <th>tags</th>\n",
       "    </tr>\n",
       "  </thead>\n",
       "  <tbody>\n",
       "    <tr>\n",
       "      <th>0</th>\n",
       "      <td>Best in Sex: 2015 AVN Awards</td>\n",
       "      <td>Adult, News Farrah Laurel Abraham,Asa Akira,An...</td>\n",
       "    </tr>\n",
       "    <tr>\n",
       "      <th>1</th>\n",
       "      <td>Naughty Novelist</td>\n",
       "      <td>Adult Darian Caine,Jackie Stevens,A.J. Khan,Ar...</td>\n",
       "    </tr>\n",
       "    <tr>\n",
       "      <th>2</th>\n",
       "      <td>2011 AVN Awards Show</td>\n",
       "      <td>Adult, News Aubrey Addams,Asa Akira,Monique Al...</td>\n",
       "    </tr>\n",
       "    <tr>\n",
       "      <th>3</th>\n",
       "      <td>Best in Sex: 2017 AVN Awards</td>\n",
       "      <td>Adult, News Amirah Adara,Asa Akira,Anikka Albr...</td>\n",
       "    </tr>\n",
       "    <tr>\n",
       "      <th>4</th>\n",
       "      <td>AVN Awards 2014</td>\n",
       "      <td>Adult, News Asa Akira,Anikka Albrite,August Am...</td>\n",
       "    </tr>\n",
       "    <tr>\n",
       "      <th>5</th>\n",
       "      <td>Couples Guest House</td>\n",
       "      <td>Adult, Romance Jayesh Arora,Rakhi Sharma,Ekta ...</td>\n",
       "    </tr>\n",
       "    <tr>\n",
       "      <th>6</th>\n",
       "      <td>Wadd: The Life &amp; Times of John C. Holmes</td>\n",
       "      <td>Documentary, Adult, Biography John Holmes,Lind...</td>\n",
       "    </tr>\n",
       "    <tr>\n",
       "      <th>7</th>\n",
       "      <td>The Sex Awards</td>\n",
       "      <td>Adult, News Jessica Drake,Veruca James,Penny P...</td>\n",
       "    </tr>\n",
       "    <tr>\n",
       "      <th>8</th>\n",
       "      <td>Modern Romance</td>\n",
       "      <td>Adult, Romance Nancy Ace,August Ames,Bill Bail...</td>\n",
       "    </tr>\n",
       "    <tr>\n",
       "      <th>9</th>\n",
       "      <td>The Kama Sutra of Vatsyayana</td>\n",
       "      <td>Documentary, Adult Mohinderjeet,Tony Montana,C...</td>\n",
       "    </tr>\n",
       "  </tbody>\n",
       "</table>\n",
       "</div>"
      ],
      "text/plain": [
       "                                       name  \\\n",
       "0              Best in Sex: 2015 AVN Awards   \n",
       "1                          Naughty Novelist   \n",
       "2                      2011 AVN Awards Show   \n",
       "3              Best in Sex: 2017 AVN Awards   \n",
       "4                           AVN Awards 2014   \n",
       "5                       Couples Guest House   \n",
       "6  Wadd: The Life & Times of John C. Holmes   \n",
       "7                            The Sex Awards   \n",
       "8                            Modern Romance   \n",
       "9              The Kama Sutra of Vatsyayana   \n",
       "\n",
       "                                                tags  \n",
       "0  Adult, News Farrah Laurel Abraham,Asa Akira,An...  \n",
       "1  Adult Darian Caine,Jackie Stevens,A.J. Khan,Ar...  \n",
       "2  Adult, News Aubrey Addams,Asa Akira,Monique Al...  \n",
       "3  Adult, News Amirah Adara,Asa Akira,Anikka Albr...  \n",
       "4  Adult, News Asa Akira,Anikka Albrite,August Am...  \n",
       "5  Adult, Romance Jayesh Arora,Rakhi Sharma,Ekta ...  \n",
       "6  Documentary, Adult, Biography John Holmes,Lind...  \n",
       "7  Adult, News Jessica Drake,Veruca James,Penny P...  \n",
       "8  Adult, Romance Nancy Ace,August Ames,Bill Bail...  \n",
       "9  Documentary, Adult Mohinderjeet,Tony Montana,C...  "
      ]
     },
     "execution_count": 18,
     "metadata": {},
     "output_type": "execute_result"
    }
   ],
   "source": [
    "new_df = movies_small[['name', 'tags']]\n",
    "new_df.head(10)"
   ]
  },
  {
   "cell_type": "code",
   "execution_count": 19,
   "id": "5f8c6ff6",
   "metadata": {},
   "outputs": [
    {
     "data": {
      "text/plain": [
       "name                                     Naughty Novelist\n",
       "tags    Adult Darian Caine,Jackie Stevens,A.J. Khan,Ar...\n",
       "Name: 1, dtype: object"
      ]
     },
     "execution_count": 19,
     "metadata": {},
     "output_type": "execute_result"
    }
   ],
   "source": [
    "new_df.iloc[1]"
   ]
  },
  {
   "cell_type": "code",
   "execution_count": 20,
   "id": "e0e94a2a",
   "metadata": {},
   "outputs": [
    {
     "name": "stderr",
     "output_type": "stream",
     "text": [
      "C:\\Users\\Admin\\AppData\\Local\\Temp\\ipykernel_10660\\1313296879.py:11: SettingWithCopyWarning: \n",
      "A value is trying to be set on a copy of a slice from a DataFrame.\n",
      "Try using .loc[row_indexer,col_indexer] = value instead\n",
      "\n",
      "See the caveats in the documentation: https://pandas.pydata.org/pandas-docs/stable/user_guide/indexing.html#returning-a-view-versus-a-copy\n",
      "  new_df['tags'] = new_df['tags'].apply(preprocess_text)\n"
     ]
    }
   ],
   "source": [
    "# Chuyển về chữ thường và loại bỏ từ dừng\n",
    "stop_words = set(stopwords.words('english'))\n",
    "\n",
    "def preprocess_text(text):\n",
    "    text = text.lower()  # Chuyển về chữ thường\n",
    "    word_tokens = word_tokenize(text)  # Tokenize văn bản thành các từ\n",
    "    # Loại bỏ từ dừng\n",
    "    filtered_text = [word for word in word_tokens if word not in stop_words]\n",
    "    return ' '.join(filtered_text)\n",
    "\n",
    "new_df['tags'] = new_df['tags'].apply(preprocess_text)"
   ]
  },
  {
   "cell_type": "code",
   "execution_count": 21,
   "id": "8b3fa06c",
   "metadata": {},
   "outputs": [
    {
     "data": {
      "text/plain": [
       "'adult , romance nancy ace , august ames , bill bailey , vicki chase holly randall add plot'"
      ]
     },
     "execution_count": 21,
     "metadata": {},
     "output_type": "execute_result"
    }
   ],
   "source": [
    "new_df['tags'][8]"
   ]
  },
  {
   "cell_type": "code",
   "execution_count": 22,
   "id": "9ea086b3",
   "metadata": {},
   "outputs": [],
   "source": [
    "tfidf = TfidfVectorizer()\n",
    "tfidf_matrix = tfidf.fit_transform(new_df['tags'])"
   ]
  },
  {
   "cell_type": "code",
   "execution_count": 23,
   "id": "52ce7570",
   "metadata": {},
   "outputs": [],
   "source": [
    "# Chuyển đổi thành mảng numpy để sử dụng trong mô hình TensorFlow\n",
    "tfidf_array = tfidf_matrix.toarray()"
   ]
  },
  {
   "cell_type": "code",
   "execution_count": 24,
   "id": "c024cd36",
   "metadata": {},
   "outputs": [
    {
     "data": {
      "text/plain": [
       "array([[0., 0., 0., ..., 0., 0., 0.],\n",
       "       [0., 0., 0., ..., 0., 0., 0.],\n",
       "       [0., 0., 0., ..., 0., 0., 0.],\n",
       "       ...,\n",
       "       [0., 0., 0., ..., 0., 0., 0.],\n",
       "       [0., 0., 0., ..., 0., 0., 0.],\n",
       "       [0., 0., 0., ..., 0., 0., 0.]])"
      ]
     },
     "execution_count": 24,
     "metadata": {},
     "output_type": "execute_result"
    }
   ],
   "source": [
    "tfidf_array"
   ]
  },
  {
   "cell_type": "code",
   "execution_count": 25,
   "id": "fc2987e8",
   "metadata": {},
   "outputs": [],
   "source": [
    "X_train, X_test = train_test_split(tfidf_array, test_size=0.2, random_state=42)\n"
   ]
  },
  {
   "cell_type": "code",
   "execution_count": 26,
   "id": "87920938",
   "metadata": {},
   "outputs": [],
   "source": [
    "# Xây dựng mô hình deep learning\n",
    "input_dim = tfidf_array.shape[1]"
   ]
  },
  {
   "cell_type": "code",
   "execution_count": 27,
   "id": "f31fd107",
   "metadata": {},
   "outputs": [
    {
     "name": "stdout",
     "output_type": "stream",
     "text": [
      "WARNING:tensorflow:From C:\\Users\\Admin\\anaconda\\Lib\\site-packages\\keras\\src\\backend.py:873: The name tf.get_default_graph is deprecated. Please use tf.compat.v1.get_default_graph instead.\n",
      "\n",
      "WARNING:tensorflow:From C:\\Users\\Admin\\anaconda\\Lib\\site-packages\\keras\\src\\optimizers\\__init__.py:309: The name tf.train.Optimizer is deprecated. Please use tf.compat.v1.train.Optimizer instead.\n",
      "\n",
      "Epoch 1/7\n",
      "WARNING:tensorflow:From C:\\Users\\Admin\\anaconda\\Lib\\site-packages\\keras\\src\\utils\\tf_utils.py:492: The name tf.ragged.RaggedTensorValue is deprecated. Please use tf.compat.v1.ragged.RaggedTensorValue instead.\n",
      "\n",
      "100/100 [==============================] - 8s 65ms/step - loss: 0.2278 - val_loss: 0.0032\n",
      "Epoch 2/7\n",
      "100/100 [==============================] - 5s 54ms/step - loss: 0.0027 - val_loss: 0.0023\n",
      "Epoch 3/7\n",
      "100/100 [==============================] - 5s 53ms/step - loss: 0.0022 - val_loss: 0.0021\n",
      "Epoch 4/7\n",
      "100/100 [==============================] - 5s 53ms/step - loss: 0.0021 - val_loss: 0.0021\n",
      "Epoch 5/7\n",
      "100/100 [==============================] - 6s 56ms/step - loss: 0.0020 - val_loss: 0.0021\n",
      "Epoch 6/7\n",
      "100/100 [==============================] - 5s 52ms/step - loss: 0.0020 - val_loss: 0.0021\n",
      "Epoch 7/7\n",
      "100/100 [==============================] - 5s 54ms/step - loss: 0.0020 - val_loss: 0.0021\n"
     ]
    }
   ],
   "source": [
    "model1 = Sequential([\n",
    "    Dense(128, activation='relu', input_shape=(input_dim,)),\n",
    "    Dense(64, activation='relu'),\n",
    "    Dense(32, activation='relu'),\n",
    "    Dense(64, activation='relu'),\n",
    "    Dense(128, activation='relu'),\n",
    "    Dense(input_dim, activation='sigmoid')\n",
    "])\n",
    "\n",
    "# Compile mô hình\n",
    "model1.compile(optimizer='adam', loss='binary_crossentropy')\n",
    "\n",
    "# Huấn luyện mô hình\n",
    "history1 = model1.fit(X_train, X_train, epochs=7, batch_size=32, validation_data=(X_test, X_test))"
   ]
  },
  {
   "cell_type": "code",
   "execution_count": 28,
   "id": "81534a5f",
   "metadata": {},
   "outputs": [
    {
     "name": "stdout",
     "output_type": "stream",
     "text": [
      "Epoch 1/7\n",
      "100/100 [==============================] - 7s 57ms/step - loss: 0.4378 - val_loss: 0.0635\n",
      "Epoch 2/7\n",
      "100/100 [==============================] - 5s 52ms/step - loss: 0.0217 - val_loss: 0.0110\n",
      "Epoch 3/7\n",
      "100/100 [==============================] - 5s 52ms/step - loss: 0.0065 - val_loss: 0.0060\n",
      "Epoch 4/7\n",
      "100/100 [==============================] - 6s 58ms/step - loss: 0.0041 - val_loss: 0.0043\n",
      "Epoch 5/7\n",
      "100/100 [==============================] - 6s 63ms/step - loss: 0.0032 - val_loss: 0.0035\n",
      "Epoch 6/7\n",
      "100/100 [==============================] - 6s 62ms/step - loss: 0.0027 - val_loss: 0.0031\n",
      "Epoch 7/7\n",
      "100/100 [==============================] - 5s 54ms/step - loss: 0.0025 - val_loss: 0.0028\n"
     ]
    }
   ],
   "source": [
    "# Mô hình đơn giản\n",
    "model2 = Sequential([\n",
    "    Dense(128, activation='relu', input_shape=(input_dim,)),\n",
    "    Dense(input_dim, activation='sigmoid')\n",
    "])\n",
    "\n",
    "# Compile mô hình\n",
    "model2.compile(optimizer='adam', loss='binary_crossentropy')\n",
    "\n",
    "# Huấn luyện mô hình\n",
    "history2 = model2.fit(X_train, X_train, epochs=7, batch_size=32, validation_data=(X_test, X_test))"
   ]
  },
  {
   "cell_type": "code",
   "execution_count": null,
   "id": "e5ca1828",
   "metadata": {},
   "outputs": [
    {
     "name": "stdout",
     "output_type": "stream",
     "text": [
      "Epoch 1/7\n",
      "100/100 [==============================] - 8s 62ms/step - loss: 0.2354 - val_loss: 0.0030\n",
      "Epoch 2/7\n",
      "100/100 [==============================] - 6s 60ms/step - loss: 0.0024 - val_loss: 0.0021\n",
      "Epoch 3/7\n",
      "100/100 [==============================] - 6s 59ms/step - loss: 0.0021 - val_loss: 0.0021\n",
      "Epoch 4/7\n",
      "100/100 [==============================] - 6s 59ms/step - loss: 0.0020 - val_loss: 0.0021\n",
      "Epoch 5/7\n",
      "100/100 [==============================] - 6s 60ms/step - loss: 0.0020 - val_loss: 0.0021\n",
      "Epoch 6/7\n",
      "100/100 [==============================] - 6s 60ms/step - loss: 0.0020 - val_loss: 0.0021\n",
      "Epoch 7/7\n",
      " 72/100 [====================>.........] - ETA: 1s - loss: 0.0020"
     ]
    }
   ],
   "source": [
    "# Mô hình sâu hơn\n",
    "model3 = Sequential([\n",
    "    Dense(256, activation='relu', input_shape=(input_dim,)),\n",
    "    Dense(128, activation='relu'),\n",
    "    Dense(64, activation='relu'),\n",
    "    Dense(32, activation='relu'),\n",
    "    Dense(input_dim, activation='sigmoid')\n",
    "])\n",
    "\n",
    "# Compile mô hình\n",
    "model3.compile(optimizer='adam', loss='binary_crossentropy')\n",
    "\n",
    "# Huấn luyện mô hình\n",
    "history3 = model3.fit(X_train, X_train, epochs=7, batch_size=32, validation_data=(X_test, X_test))"
   ]
  },
  {
   "cell_type": "code",
   "execution_count": null,
   "id": "67bdb537",
   "metadata": {},
   "outputs": [],
   "source": [
    "# Mô hình phức tạp hơn\n",
    "model4 = Sequential([\n",
    "    Dense(256, activation='relu', input_shape=(input_dim,)),\n",
    "    Dense(128, activation='relu'),\n",
    "    Dense(64, activation='relu'),\n",
    "    Dense(32, activation='relu'),\n",
    "    Dense(16, activation='relu'),\n",
    "    Dense(input_dim, activation='sigmoid')\n",
    "])\n",
    "\n",
    "# Compile mô hình\n",
    "model4.compile(optimizer='adam', loss='binary_crossentropy')\n",
    "\n",
    "# Huấn luyện mô hình\n",
    "history4 = model4.fit(X_train, X_train, epochs=7, batch_size=32, validation_data=(X_test, X_test))"
   ]
  },
  {
   "cell_type": "code",
   "execution_count": null,
   "id": "71ea3c4e",
   "metadata": {},
   "outputs": [],
   "source": [
    "# Encode toàn bộ tfidf_array sử dụng mô hình đã huấn luyện\n",
    "encoded_movies = model2.predict(tfidf_array)"
   ]
  },
  {
   "cell_type": "code",
   "execution_count": null,
   "id": "22a9c6b9",
   "metadata": {},
   "outputs": [],
   "source": [
    "# Tính toán ma trận độ tương đồng cosine giữa các phim\n",
    "similarities = cosine_similarity(encoded_movies)"
   ]
  },
  {
   "cell_type": "code",
   "execution_count": null,
   "id": "1657b60e",
   "metadata": {},
   "outputs": [],
   "source": [
    "def recommend_movies(movie_name, similarities, num_recommendations=5):\n",
    "    if movie_name not in new_df['name'].values:\n",
    "        return []\n",
    "\n",
    "    movie_index = new_df[new_df['name'] == movie_name].index[0]\n",
    "    if movie_index >= len(similarities):\n",
    "        return []\n",
    "\n",
    "    similarity_scores = list(enumerate(similarities[movie_index]))\n",
    "    similarity_scores = sorted(similarity_scores, key=lambda x: x[1], reverse=True)\n",
    "    \n",
    "    top_similar_movies_indices = [i[0] for i in similarity_scores[1:num_recommendations+1]]\n",
    "    \n",
    "    return new_df['name'].iloc[top_similar_movies_indices]\n"
   ]
  },
  {
   "cell_type": "code",
   "execution_count": null,
   "id": "2315d3f0",
   "metadata": {},
   "outputs": [],
   "source": [
    "# Sử dụng hàm recommend_movies để gợi ý phim\n",
    "movie_name = \"Naughty Novelist\"\n",
    "\n",
    "recommended_movies = recommend_movies(movie_name, similarities)\n",
    "\n",
    "print(\"Các bộ phim được gợi ý cho\", movie_name, \"là:\")\n",
    "print(recommended_movies)"
   ]
  },
  {
   "cell_type": "markdown",
   "id": "0ba39fe9",
   "metadata": {},
   "source": [
    "Metrics"
   ]
  },
  {
   "cell_type": "code",
   "execution_count": null,
   "id": "12eea079",
   "metadata": {},
   "outputs": [],
   "source": [
    "def ndcg_at_k(recommended_movies, relevant_movies, k):\n",
    "    def dcg_at_k(r, k):\n",
    "        r = np.asfarray(r)[:k]\n",
    "        if r.size:\n",
    "            return r[0] + np.sum(r[1:] / np.log2(np.arange(2, r.size + 1)))\n",
    "        return 0.0\n",
    "\n",
    "    r = [1 if movie in relevant_movies else 0 for movie in recommended_movies[:k]]\n",
    " \n",
    "    dcg = dcg_at_k(r, k)\n",
    "    \n",
    "    idcg = dcg_at_k(sorted(r, reverse=True), k)\n",
    "    \n",
    "    if idcg == 0:\n",
    "        return 0.0\n",
    "\n",
    "    return dcg / idcg\n",
    "\n",
    "def evaluate_ndcg(model, tfidf_array, new_df, num_recommendations=5):\n",
    "    encoded_movies = model.predict(tfidf_array)\n",
    "    similarities = cosine_similarity(encoded_movies)\n",
    "\n",
    "    all_ndcg = []\n",
    "    for idx, movie_name in enumerate(new_df['name']):\n",
    "        relevant_movies = new_df['name'][new_df['name'] != movie_name].tolist()\n",
    "        recommended_movies = recommend_movies(movie_name, similarities, num_recommendations)\n",
    "        if len(recommended_movies) < num_recommendations:\n",
    "            continue\n",
    "        ndcg = ndcg_at_k(recommended_movies, relevant_movies, num_recommendations)\n",
    "        all_ndcg.append(ndcg)\n",
    "    return np.mean(all_ndcg)\n",
    "\n"
   ]
  },
  {
   "cell_type": "code",
   "execution_count": null,
   "id": "3165355e",
   "metadata": {},
   "outputs": [],
   "source": [
    "def average_precision_at_k(recommended_movies, relevant_movies, k):\n",
    "    score = 0.0\n",
    "    num_hits = 0.0\n",
    "    for i, p in enumerate(recommended_movies[:k]):\n",
    "        if p in relevant_movies:\n",
    "            num_hits += 1.0\n",
    "            score += num_hits / (i + 1.0)\n",
    "    return score / min(len(relevant_movies), k)\n",
    "\n",
    "def evaluate_map(model, tfidf_array, new_df, num_recommendations=5):\n",
    "    encoded_movies = model.predict(tfidf_array)\n",
    "    similarities = cosine_similarity(encoded_movies)\n",
    "\n",
    "    all_ap = []\n",
    "    for idx, movie_name in enumerate(new_df['name']):\n",
    "        relevant_movies = new_df['name'][new_df['name'] != movie_name].tolist()\n",
    "        recommended_movies = recommend_movies(movie_name, similarities, num_recommendations)\n",
    "        if len(recommended_movies) < num_recommendations:\n",
    "            continue\n",
    "        ap = average_precision_at_k(recommended_movies, relevant_movies, num_recommendations)\n",
    "        all_ap.append(ap)\n",
    "    return np.mean(all_ap)\n"
   ]
  },
  {
   "cell_type": "code",
   "execution_count": null,
   "id": "8be05a60",
   "metadata": {},
   "outputs": [],
   "source": [
    "# Huấn luyện các mô hình và tính toán NDCG và MAP\n",
    "ndcg_scores = []\n",
    "map_scores = []\n",
    "\n",
    "models = [model1, model2, model3, model4]  # Danh sách các mô hình bạn muốn so sánh\n",
    "\n",
    "for idx, model in enumerate(models, start=1):\n",
    "    ndcg_score = evaluate_ndcg(model, tfidf_array, new_df, 5)\n",
    "    map_score = evaluate_map(model, tfidf_array, new_df,5)\n",
    "    \n",
    "    ndcg_scores.append(ndcg_score)\n",
    "    map_scores.append(map_score)\n",
    "\n",
    "# Tạo DataFrame để hiển thị kết quả\n",
    "results_df = pd.DataFrame({\n",
    "    'Models': ['Model 1','Model 2', 'Model 3', 'Model 4'],  # Tên của các mô hình\n",
    "    'NDCG': ndcg_scores,\n",
    "    'MAP': map_scores\n",
    "})\n",
    "\n",
    "print(\"Kết quả đánh giá các mô hình:\")\n",
    "print(results_df)\n"
   ]
  },
  {
   "cell_type": "code",
   "execution_count": null,
   "id": "bcf80043",
   "metadata": {},
   "outputs": [],
   "source": [
    "import pickle\n",
    "\n",
    "# Save DataFrame to pickle file\n",
    "output_file = 'movie_similarity1.pkl'\n",
    "with open(output_file, 'wb') as f:\n",
    "    pickle.dump(similarities, f)\n",
    "\n",
    "# Optionally, also save movie names to another pickle file\n",
    "movie_names_file = 'movie_names1.pkl'\n",
    "with open(movie_names_file, 'wb') as f:\n",
    "    pickle.dump(new_df, f)"
   ]
  },
  {
   "cell_type": "code",
   "execution_count": null,
   "id": "d27679de",
   "metadata": {},
   "outputs": [],
   "source": [
    "mkdir my-jupyter-notebook"
   ]
  },
  {
   "cell_type": "code",
   "execution_count": null,
   "id": "ac112f34",
   "metadata": {},
   "outputs": [],
   "source": []
  },
  {
   "cell_type": "code",
   "execution_count": null,
   "id": "fc3b38ab",
   "metadata": {},
   "outputs": [],
   "source": []
  }
 ],
 "metadata": {
  "kernelspec": {
   "display_name": "Python 3 (ipykernel)",
   "language": "python",
   "name": "python3"
  },
  "language_info": {
   "codemirror_mode": {
    "name": "ipython",
    "version": 3
   },
   "file_extension": ".py",
   "mimetype": "text/x-python",
   "name": "python",
   "nbconvert_exporter": "python",
   "pygments_lexer": "ipython3",
   "version": "3.11.5"
  }
 },
 "nbformat": 4,
 "nbformat_minor": 5
}
